{
 "cells": [
  {
   "cell_type": "code",
   "execution_count": 1,
   "id": "a372f08a-992a-4d8d-90a4-194088f00fd3",
   "metadata": {},
   "outputs": [
    {
     "name": "stdin",
     "output_type": "stream",
     "text": [
      " ········\n"
     ]
    }
   ],
   "source": [
    "import paramiko\n",
    "import getpass\n",
    "\n",
    "host = \"158.251.88.197\"\n",
    "port = 22\n",
    "username = \"iaraya\"\n",
    "password = getpass.getpass()\n",
    "\n",
    "ssh = paramiko.SSHClient()\n",
    "ssh.set_missing_host_key_policy(paramiko.AutoAddPolicy())\n",
    "ssh.connect(host, port, username, password)"
   ]
  },
  {
   "cell_type": "markdown",
   "id": "65449f21-1e4a-4987-9ece-fc2a4f762a1f",
   "metadata": {},
   "source": [
    "### Loading the instance"
   ]
  },
  {
   "cell_type": "code",
   "execution_count": 2,
   "id": "ebcae899-d939-4b15-a60a-0224fd5c0856",
   "metadata": {},
   "outputs": [],
   "source": [
    "from bsg import load_BRinstance\n",
    "from mclp import generate_candidate_solution\n",
    "import numpy as np\n",
    "\n",
    "L,W,H,boxes,id2box = load_BRinstance(filename=\"BR8.txt\",inst=4, nbox=1)\n",
    "_boxes=boxes.copy()\n",
    "\n",
    "#Dimension del contenedor\n",
    "L = int(L/2)\n",
    "W = int(W/2)\n",
    "H = int(H/2)\n",
    "\n",
    "\n",
    "r_param = 1.5 \n",
    "total_test = 100"
   ]
  },
  {
   "cell_type": "markdown",
   "id": "34e32561-b58e-475a-b5c6-99dbb5e7effd",
   "metadata": {},
   "source": [
    "### Estimating adjusted vols (optional)"
   ]
  },
  {
   "cell_type": "code",
   "execution_count": null,
   "id": "89903219-00f4-4362-8515-0a1ff6444067",
   "metadata": {
    "jupyter": {
     "source_hidden": true
    },
    "tags": []
   },
   "outputs": [
    {
     "name": "stdout",
     "output_type": "stream",
     "text": [
      "Initial Solution: 10\n"
     ]
    }
   ],
   "source": [
    "boxes=_boxes.copy()\n",
    "#Creacion de solucion candidata\n",
    "bins1 = generate_candidate_solution(ssh,L,W,H,boxes,id2box, r_param=r_param, bsg_time=1)\n",
    "boxes=_boxes.copy()\n",
    "bins2 = generate_candidate_solution(ssh,L,W,H,boxes,id2box, r_param=r_param, bsg_time=1)\n",
    "boxes=_boxes.copy()\n",
    "bins3 = generate_candidate_solution(ssh,L,W,H,boxes,id2box, r_param=r_param, bsg_time=1)\n",
    "boxes=_boxes.copy()\n",
    "bins4 = generate_candidate_solution(ssh,L,W,H,boxes,id2box, r_param=r_param, bsg_time=1)\n",
    "boxes=_boxes.copy()\n",
    "bins5 = generate_candidate_solution(ssh,L,W,H,boxes,id2box, r_param=r_param, bsg_time=1)\n",
    "\n",
    "from sklearn.linear_model import LinearRegression\n",
    "\n",
    "# obtengo conjuntos de bins que se pueden colocar en un bin\n",
    "bins=[*bins1[:-2],*bins2[:-2],*bins3[:-2],*bins4[:-2],*bins5[:-2]] #40 bins\n",
    "\n",
    "#10x1 + 5x2 +7x3 = 1\n",
    "#7x3 + 1x7 = 1\n",
    "#7x3 + 14x1 = 1 \n",
    "#...\n",
    "\n",
    "\n",
    "X = []; y=[]\n",
    "for bin in bins:\n",
    "    x = np.zeros(len(_boxes))\n",
    "    i=0\n",
    "    for box in _boxes:\n",
    "        if box in bin.boxes:\n",
    "            x[i]=bin.boxes[box]\n",
    "        i+=1\n",
    "    X.append(x)\n",
    "    y.append(1.0)\n",
    "\n",
    "reg = LinearRegression(fit_intercept=False).fit(X, y)\n",
    "\n",
    "i = 0\n",
    "\n",
    "for box in _boxes:\n",
    "    vol = box.vol/(L*W*H) \n",
    "    if reg.coef_[i] < vol: box.adj_vol=vol\n",
    "    else: box.adj_vol=reg.coef_[i]\n",
    "    i+=1\n",
    "    \n",
    "print( reg.coef_)"
   ]
  },
  {
   "cell_type": "code",
   "execution_count": 3,
   "id": "b9490c7e-b3d4-46e3-88cf-e8902c938c96",
   "metadata": {},
   "outputs": [],
   "source": [
    "precomputed_vols = [ 0.11630617,  0.02313203, -0.00057166,  0.02554413,  0.03971392,  0.05794329, \\\n",
    "  0.03677449,  0.04732551,  0.11323912,  0.08207787,  0.02197904,  0.17862389, \\\n",
    "  0.05774166,  0.14886613, -0.03230753,  0.03970321,  0.09253112,  0.0095023, \\\n",
    "  0.10369953,  0.04723096,  0.09009306,  0.06664873,  0.07504355,  0.05946155, \\\n",
    "  0.04751135,  0.08771801,  0.05591064,  0.22794829,  0.07499608,  0.03502724]\n",
    "i=0\n",
    "for box in _boxes:\n",
    "    vol = box.vol/(L*W*H) \n",
    "    if precomputed_vols[i] < vol: box.adj_vol=vol\n",
    "    else: box.adj_vol=precomputed_vols[i]\n",
    "    i+=1"
   ]
  },
  {
   "cell_type": "markdown",
   "id": "484d63f7-c438-4cff-a05d-fdc728388101",
   "metadata": {},
   "source": [
    "### Solver"
   ]
  },
  {
   "cell_type": "code",
   "execution_count": 4,
   "id": "2d1d6229-91fd-4674-ab37-0ebf198417b7",
   "metadata": {},
   "outputs": [],
   "source": [
    "from mclp import get_random_bin\n",
    "\n",
    "def get_adjusted_vol(boxes):\n",
    "    vol=0.0\n",
    "    for box in boxes:\n",
    "        vol += box.adj_vol*boxes[box]\n",
    "    return vol\n",
    "      \n",
    "def adjusted_swap(solution, n=2,  max_vol_accept=1.0, tolerance=0.1, verbose=True):\n",
    "    bin_A = get_random_bin(s = solution) \n",
    "    bin_B = get_random_bin(s = solution, b = bin_A)\n",
    "    \n",
    "    var_ini = (bin_A.adj_vol-1.0)**2 + (bin_B.adj_vol-1.0)**2\n",
    "    \n",
    "    nA = int(random.randint(1, n))\n",
    "    boxes_A = bin_A.pop_random_boxes(nA)\n",
    "    adjvolA = get_adjusted_vol(boxes_A)\n",
    "    \n",
    "    nB = int(random.randint(0, n))\n",
    "    boxes_B = bin_B.pop_random_boxes(nB)\n",
    "    adjvolB = get_adjusted_vol(boxes_B)\n",
    "    \n",
    "    r = tolerance*random.random()\n",
    "    accepted = False\n",
    "    \n",
    "    if adjvolA > adjvolB and bin_B.adj_vol + adjvolA < max_vol_accept + r:\n",
    "        accepted = True\n",
    "    elif adjvolB > adjvolA and  bin_A.adj_vol + adjvolB < max_vol_accept + r:\n",
    "        accepted = True\n",
    "    \n",
    "    if accepted:\n",
    "        bin_A.insert_boxes(boxes_B)\n",
    "        bin_B.insert_boxes(boxes_A)\n",
    "    else: return -10\n",
    "        \n",
    "    var_final = (bin_A.adj_vol-1.0)**2 + (bin_B.adj_vol-1.0)**2\n",
    "        \n",
    "    var_diff = var_final - var_ini\n",
    "    \n",
    "    return var_diff\n",
    "\n",
    "    "
   ]
  },
  {
   "cell_type": "code",
   "execution_count": 5,
   "id": "1c7e6c2c-ae64-4d17-a299-ec5804f37167",
   "metadata": {},
   "outputs": [
    {
     "name": "stdout",
     "output_type": "stream",
     "text": [
      "Initial Solution: 10\n"
     ]
    }
   ],
   "source": [
    "boxes=_boxes.copy()\n",
    "init_solution=generate_candidate_solution(ssh,L,W,H,boxes,id2box, r_param=r_param, bsg_time=1)\n"
   ]
  },
  {
   "cell_type": "code",
   "execution_count": 7,
   "id": "3adef7ea-b990-4f1a-a7b5-c27c1779e90c",
   "metadata": {},
   "outputs": [
    {
     "name": "stdout",
     "output_type": "stream",
     "text": [
      "[0.9714272795003585, 0.8508567899999999, 1.003889542415612, 1.22292749, 0.9927058667175581, 1.2838411837683887, 0.9544956765246557, 1.0361587939825823, 0.9538607579604566, 0.5329067269389196]\n"
     ]
    }
   ],
   "source": [
    "import copy as cp\n",
    "for bin in init_solution:\n",
    "    bin.set_adj_vol(get_adjusted_vol(bin.boxes))\n",
    "# Bins adjusted volumes\n",
    "print([get_adjusted_vol(bin.boxes) for bin in init_solution])\n",
    "best_solution = cp.deepcopy(init_solution)"
   ]
  },
  {
   "cell_type": "code",
   "execution_count": null,
   "id": "70391d2c-576a-4e5e-9e16-cbb836597e31",
   "metadata": {},
   "outputs": [
    {
     "name": "stdout",
     "output_type": "stream",
     "text": [
      "0.01135548234372819\n",
      "2 verification fails [1.0387863483829587]\n",
      "0.0012511937283742705\n"
     ]
    }
   ],
   "source": [
    "import random\n",
    "from mclp import verify_solution\n",
    "\n",
    "\n",
    "for i in range(1000):\n",
    "    solution = cp.deepcopy(best_solution)\n",
    "    diff_var = adjusted_swap(solution, n=4,  max_vol_accept=1.02, tolerance=0.1, verbose=True)\n",
    "\n",
    "    if diff_var>0:\n",
    "        print(diff_var)\n",
    "        verified_solution=True\n",
    "        if not verify_solution(ssh, solution, id2box, bsg_time=15):\n",
    "            print(i,\"verification fails\", [b.adj_vol for b in solution if b.verify==False])\n",
    "            verified_solution=False\n",
    "\n",
    "        if verified_solution:\n",
    "            for bin in solution:\n",
    "                print(bin.id, \":\", bin, bin.utilization, bin.adj_vol, bin.verify)\n",
    "            best_solution = cp.deepcopy(solution)"
   ]
  },
  {
   "cell_type": "code",
   "execution_count": null,
   "id": "3c3f86a6-7c14-4140-a3f1-0c2034b7e491",
   "metadata": {},
   "outputs": [],
   "source": []
  }
 ],
 "metadata": {
  "kernelspec": {
   "display_name": "Python 3 (ipykernel)",
   "language": "python",
   "name": "python3"
  },
  "language_info": {
   "codemirror_mode": {
    "name": "ipython",
    "version": 3
   },
   "file_extension": ".py",
   "mimetype": "text/x-python",
   "name": "python",
   "nbconvert_exporter": "python",
   "pygments_lexer": "ipython3",
   "version": "3.8.0"
  }
 },
 "nbformat": 4,
 "nbformat_minor": 5
}
