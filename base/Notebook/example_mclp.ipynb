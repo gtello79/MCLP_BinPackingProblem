{
 "cells": [
  {
   "cell_type": "markdown",
   "metadata": {},
   "source": [
    "# Conexión por SSH"
   ]
  },
  {
   "cell_type": "markdown",
   "metadata": {},
   "source": [
    "Inicializar la conexion ssh\n"
   ]
  },
  {
   "cell_type": "code",
   "execution_count": 1,
   "metadata": {},
   "outputs": [
    {
     "name": "stdout",
     "output_type": "stream",
     "text": [
      " ··········\n"
     ]
    }
   ],
   "source": [
    "import paramiko\n",
    "import getpass\n",
    "\n",
    "host = \"158.251.88.197\"\n",
    "port = 22\n",
    "username = \"gonzalo\"\n",
    "password = getpass.getpass()\n",
    "\n",
    "ssh = paramiko.SSHClient()\n",
    "ssh.set_missing_host_key_policy(paramiko.AutoAddPolicy())\n",
    "ssh.connect(host, port, username, password)"
   ]
  },
  {
   "cell_type": "markdown",
   "metadata": {},
   "source": [
    "Para cerrar el servidor MCLP"
   ]
  },
  {
   "cell_type": "code",
   "execution_count": 4,
   "metadata": {},
   "outputs": [],
   "source": [
    "def close_mclp_server(port=8060):\n",
    "    stdin, stdout, stderr = ssh.exec_command(\"echo END | netcat localhost \"+str(port))\n",
    "    print(stdout.readlines()[0])\n",
    "    "
   ]
  },
  {
   "cell_type": "markdown",
   "metadata": {},
   "source": [
    "# LoadBoxes(path,instance)\n",
    "--\n",
    "Se carga las cajas de una instancia"
   ]
  },
  {
   "cell_type": "code",
   "execution_count": 1,
   "metadata": {
    "tags": []
   },
   "outputs": [],
   "source": [
    "import numpy as np\n",
    "\n",
    "dimBox = dict()\n",
    "vol = dict()\n",
    "\n",
    "def loadBoxes(idClass, boxSize, idInstance):\n",
    "    filePath = '../benchs/class'+str(idClass)+'/'+str(boxSize)+'.txt'\n",
    "    instanceIndex = -1\n",
    "    countBox = 0\n",
    "    totalBox = 0\n",
    "    boxesinfo = []\n",
    "    binDim = []\n",
    "    \n",
    "    boxesFile = open(filePath,'r')\n",
    "    \n",
    "    #Lectura del archivo\n",
    "    for line in boxesFile.readlines():\n",
    "        info = line.strip().split()\n",
    "        \n",
    "        if(instanceIndex < idInstance and len(info) == 4):\n",
    "            instanceIndex+=1\n",
    "            totalBox = int(info[0])\n",
    "        \n",
    "        elif(instanceIndex == idInstance):\n",
    "            #La instancia que se esta buscando\n",
    "            if(len(info) == 4):\n",
    "                instanceIndex+=1\n",
    "                totalBox = int(info[0])\n",
    "                binDim = [int(info[i]) for i in range(1, len(info))]\n",
    "                binDim = np.array(binDim)\n",
    "            \n",
    "            elif(len(info) == 3 and countBox < totalBox):\n",
    "                countBox+=1    \n",
    "                b = np.array([int(info[i]) for i in range(0, len(info))])\n",
    "                b.sort()\n",
    "                boxesinfo.append(b)\n",
    "\n",
    "    countBox = 0\n",
    "    for boxSize in boxesinfo:\n",
    "        dimBox[countBox] = np.array(boxSize)\n",
    "        countBox +=1\n"
   ]
  },
  {
   "cell_type": "markdown",
   "metadata": {},
   "source": [
    "Implementé un *servidor MCLP*, el cual escucha instrucciones para generar bins.\n",
    "\n",
    "El siguiente código lanza el servidor en el background, carga una instancia y lo deja escuchando peticiones por el puerto 8080"
   ]
  },
  {
   "cell_type": "code",
   "execution_count": 5,
   "metadata": {},
   "outputs": [],
   "source": [
    "def loadInstance(idClass=1, boxSize=100, idInstance=0, port=8060):\n",
    "    transport = ssh.get_transport()\n",
    "    channel = transport.open_session()\n",
    "    loadBoxes(idClass, boxSize, idInstance)\n",
    "    channel.exec_command(\"killall BASIC_BSG_MCLP; ./mclp/Metasolver/BASIC_BSG_MCLP mclp/Metasolver/problems/mclp/benchs/class\"+ \\\n",
    "                         str(idClass)+\"/\"+str(boxSize)+\".txt -i \"+str(idInstance)+\" --port=\"+str(port))\n",
    "    return dimBox, channel\n",
    "\n",
    "boxes, channel = loadInstance(1,100,0,port)   "
   ]
  },
  {
   "cell_type": "markdown",
   "metadata": {},
   "source": [
    "# Metodos implementados\n",
    "\n",
    "\n"
   ]
  },
  {
   "cell_type": "markdown",
   "metadata": {},
   "source": [
    "## Extras "
   ]
  },
  {
   "cell_type": "code",
   "execution_count": 6,
   "metadata": {},
   "outputs": [],
   "source": [
    "import matplotlib.pyplot as plt\n",
    "\n",
    "def createPlot(InitialVol, finalVol):\n",
    "    id_bins_first = list( InitialVol.keys() )\n",
    "    size_initial_bins = list( InitialVol.values() )\n",
    "\n",
    "    id_bins_final = list( finalVol.keys() )\n",
    "    size_final_bins = list( finalVol.values() )\n",
    "\n",
    "    plt.plot(id_bins_first, size_initial_bins, label = 'First Solution')\n",
    "    plt.plot(id_bins_final, size_final_bins, label = 'Final Solution')\n",
    "\n",
    "    plt.title('Volumen asociado a cada bin')\n",
    "    plt.legend()\n",
    "    plt.show()\n"
   ]
  },
  {
   "cell_type": "code",
   "execution_count": 7,
   "metadata": {},
   "outputs": [],
   "source": [
    "def calculateComplex(idBox, dim):\n",
    "    x,y,z = dim\n",
    "    expo = 1\n",
    "    vol = x*y*z\n",
    "    return ( ( (x/z)*(x/y)*(y/z) )**expo ) * vol"
   ]
  },
  {
   "cell_type": "code",
   "execution_count": 8,
   "metadata": {},
   "outputs": [],
   "source": [
    "def getMostComplexBox(bin):\n",
    "    idBox = []\n",
    "    eval = 0\n",
    "    \n",
    "    for b in bin:\n",
    "        boxShape = boxes[b] #Cargar instancia\n",
    "        \n",
    "        currentEval = calculateComplex(b,boxShape)    \n",
    "        if (idBox is None):\n",
    "            idBox = b\n",
    "            eval = currentEval\n",
    "        else:\n",
    "            if(currentEval > eval):\n",
    "                idBox = b\n",
    "                eval = currentEval\n",
    "    return idBox, eval"
   ]
  },
  {
   "cell_type": "code",
   "execution_count": 9,
   "metadata": {},
   "outputs": [],
   "source": [
    "import random as rand\n",
    "\n",
    "def popRandomBin(bins):\n",
    "    rPos = int(rand.random()*len(bins))\n",
    "    theBin = bins.pop(rPos)\n",
    "    return theBin, bins, rPos"
   ]
  },
  {
   "cell_type": "code",
   "execution_count": 10,
   "metadata": {},
   "outputs": [],
   "source": [
    "def vol(listBoxes):\n",
    "    totalVol = 0\n",
    "    for box in listBoxes:\n",
    "        x,y,z = boxes[box]\n",
    "        totalVol += x*y*z\n",
    "    return totalVol\n"
   ]
  },
  {
   "cell_type": "markdown",
   "metadata": {},
   "source": [
    "## Generadores "
   ]
  },
  {
   "cell_type": "markdown",
   "metadata": {},
   "source": [
    "**Generación de conjunto inicial de bins con BSG**\n",
    "\n",
    "La siguiente función genera la lista inicial de bins. Cada línea representa un bin indicando el porcentaje de llenado y los ids de sus cajas.\n",
    "\n",
    "Es necesario modificarla para que en vez de imprimir el contenido de los bins, retorne una estructura adecuada."
   ]
  },
  {
   "cell_type": "code",
   "execution_count": 11,
   "metadata": {},
   "outputs": [],
   "source": [
    "volBin = dict() #Volumen de cada bin\n",
    "\n",
    "def generate_bins(port=8060):\n",
    "    #probarlo con distintas instancias\n",
    "    \n",
    "    local_command = \"echo generate_bins | netcat localhost \"+str(port)\n",
    "    stdin, stdout, stderr = ssh.exec_command(local_command)\n",
    "    flag = False\n",
    "    bins = []\n",
    "    count = 0\n",
    "    for line in stdout.readlines():\n",
    "        if \"BINS:\" in line: \n",
    "            flag = True\n",
    "            continue\n",
    "        if flag:    \n",
    "            #Modificar igual que generate_bin\n",
    "            line = line.strip().split()\n",
    "            vol = float(line[0]) #Porcentaje de llenado del bin\n",
    "            newBin = np.array([int(line[x]) for x in range(1,len(line))])\n",
    "            #calcular el volumen\n",
    "            bins.append(newBin)\n",
    "            volBin[count] = vol\n",
    "            count +=1\n",
    "    #recordar forma del arreglo        \n",
    "    return bins"
   ]
  },
  {
   "cell_type": "markdown",
   "metadata": {},
   "source": [
    "**Construcción de bin priorizando cajas (BSG)**"
   ]
  },
  {
   "cell_type": "code",
   "execution_count": 12,
   "metadata": {},
   "outputs": [],
   "source": [
    "import numpy as np\n",
    "\n",
    "def generate_bin(boxes, new_box, port=8060):\n",
    "    global channel\n",
    "    index = 0\n",
    "    leftboxes = []\n",
    "    newBin = []\n",
    "    boxes = np.insert(boxes, 1, new_box)\n",
    "    boxes_str = [str(box) for box in boxes]\n",
    "    pboxes_str = str(new_box)\n",
    "    percent = 0.0\n",
    "\n",
    "    local_command = \"echo generate_bin \" + \" \".join(boxes_str) + \" -1 \" + pboxes_str +  \" -2 | netcat localhost \"+str(port)\n",
    "    stdin, stdout, stderr = ssh.exec_command(local_command)\n",
    "    lines = stdout.readlines()\n",
    "\n",
    "    while( len(lines) == 0 ):\n",
    "        \n",
    "        ___, channel = loadInstance(idClass, boxSize, idInstance, port)\n",
    "        stdin, stdout, stderr = ssh.exec_command(\"echo generate_bin \" + \" \".join(boxes_str) + \" -1 \" + pboxes_str +  \" -2 | netcat localhost \"+str(port))\n",
    "        lines = stdout.readlines()\n",
    "    \n",
    "    for line in lines: \n",
    "        #ajustar linea para almacenar los conjuntos de cajas\n",
    "        line = line.strip().split()\n",
    "        \n",
    "        if(index == 0):\n",
    "            #primera linea boxes \n",
    "            percent = float(line.pop(0))\n",
    "            newBin = np.array([int(x) for x in line])            \n",
    "        else:\n",
    "            #segunda linea left boxes\n",
    "            leftboxes = np.array([int(x) for x in line])\n",
    "        index+=1\n",
    "\n",
    "    return newBin, leftboxes, percent"
   ]
  },
  {
   "cell_type": "markdown",
   "metadata": {},
   "source": [
    "# Multiple Container Loading Problem"
   ]
  },
  {
   "cell_type": "code",
   "execution_count": 13,
   "metadata": {},
   "outputs": [],
   "source": [
    "import copy as cp\n",
    "\n",
    "def reduceBins(bins, toReduce):\n",
    "\n",
    "    lastBins = cp.deepcopy(bins)\n",
    "    breakedBin = toReduce\n",
    "    iterator = 0\n",
    "\n",
    "    # Desde una caja intentar introducirla en el resto\n",
    "    while(len(breakedBin) == 0 or iterator < 10):\n",
    "        #Se hace pop a un bin dentro del universo de bins\n",
    "        pivBin, bins, id_piv_bin = popRandomBin(bins)    \n",
    "\n",
    "        #Se obtiene una caja compleja desde el bin que se desea distribuir\n",
    "        complexBox, evalComplexBox = getMostComplexBox(breakedBin)\n",
    "        \n",
    "        #Metodo de llamada al BSG\n",
    "        boxes, leftBoxes, percent = generate_bin(pivBin, complexBox, port)\n",
    "        \n",
    "        #Se calcula la complejidad de la caja más compleja\n",
    "        dimComplexBox = dimBox[complexBox]\n",
    "        \n",
    "        evalComplexBox = calculateComplex(complexBox, dimComplexBox)\n",
    "        if( vol(leftBoxes) <= vol([complexBox]) ):\n",
    "            print(\"Cambio aceptado\")\n",
    "            #Se inserta el nuevo bin dentro del conjunto de bins\n",
    "            bins.append(boxes)\n",
    "            \n",
    "            #Se elimina (desde el conjunto de cajas a repartir) la caja insertada en el nuevo bin \n",
    "            index = np.where(breakedBin == complexBox)\n",
    "            breakedBin = np.delete(breakedBin, index[0])\n",
    "            \n",
    "            #Se agregan las cajas que se cambiaron\n",
    "            breakedBin = np.concatenate((leftBoxes, breakedBin)) \n",
    "            \n",
    "            #Se sea el volumen del bin por el porcentaje obtenido por generate Bin\n",
    "            volBin[id_piv_bin] = percent\n",
    "\n",
    "        else:\n",
    "            bins.append(pivBin)\n",
    "        iterator+=1\n",
    "            \n",
    "    #Regresar al estado anterior si \n",
    "    if(len(breakedBin) > 0):\n",
    "        \n",
    "        lastBins.append(toReduce)\n",
    "        return lastBins, False\n",
    "    #Sino\n",
    "    else: \n",
    "        return bins, True\n",
    "        "
   ]
  },
  {
   "cell_type": "code",
   "execution_count": 14,
   "metadata": {},
   "outputs": [],
   "source": [
    "initialVol = None\n",
    "\n",
    "def solve(swapIter, port=8060):\n",
    "    cantBoxes = len(dimBox)\n",
    "    totalBoxes = boxes\n",
    "    \n",
    "    #Llamada a BSG\n",
    "    print(\"Generando conjunto inicial de bins\")\n",
    "    bins = generate_bins(port)\n",
    "    \n",
    "    firstSol = len(bins)\n",
    "    initialVol = volBin\n",
    "    \n",
    "    for i in range(swapIter):\n",
    "        print(\"ITERACION \"+str(i))\n",
    "        toReduce, bins, id_to_reduce = popRandomBin(bins) \n",
    "        bins, change = reduceBins(bins, toReduce)\n",
    "        \n",
    "\n",
    "        if(change):\n",
    "            print(\"Existe cambio\")\n",
    "            volBin[id_to_reduce] = 0.0\n",
    "\n",
    "    print(\"Solución inicial: \"+str(firstSol)+\" - Solución final: \" + str(len(bins)))\n",
    "\n",
    "    createPlot(initialVol, volBin)\n",
    "    return bins\n"
   ]
  },
  {
   "cell_type": "code",
   "execution_count": 15,
   "metadata": {
    "tags": []
   },
   "outputs": [
    {
     "name": "stdout",
     "output_type": "stream",
     "text": [
      "Generando conjunto inicial de bins\n",
      "ITERACION 0\n",
      "Cambio aceptado\n",
      "ITERACION 1\n",
      "Cambio aceptado\n",
      "Cambio aceptado\n",
      "ITERACION 2\n",
      "Cambio aceptado\n",
      "ITERACION 3\n",
      "ITERACION 4\n",
      "Cambio aceptado\n",
      "Cambio aceptado\n",
      "ITERACION 5\n",
      "ITERACION 6\n",
      "ITERACION 7\n",
      "Cambio aceptado\n",
      "Cambio aceptado\n",
      "ITERACION 8\n",
      "ITERACION 9\n",
      "Solución inicial: 24 - Solución final: 24\n"
     ]
    },
    {
     "data": {
      "image/png": "[encoded data removed]",
      "text/plain": [
       "<Figure size 432x288 with 1 Axes>"
      ]
     },
     "metadata": {
      "needs_background": "light"
     },
     "output_type": "display_data"
    }
   ],
   "source": [
    "def mclp(idClass, idInstance, boxSize, port=8060):\n",
    "    swapIter = 10\n",
    "    bins = solve(swapIter, port)\n",
    "    return len(bins)\n",
    "\n",
    "## VARIABLES GLOBALES\n",
    "global channel\n",
    "idClass = 1\n",
    "boxSize = 100\n",
    "idInstance = 0\n",
    "port = 8060\n",
    "boxes, channel = loadInstance(idClass, boxSize, idInstance, port)   \n",
    "\n",
    "i = mclp(idClass, idInstance, boxSize)"
   ]
  },
  {
   "cell_type": "code",
   "execution_count": 79,
   "metadata": {},
   "outputs": [
    {
     "name": "stdout",
     "output_type": "stream",
     "text": [
      "Ending MCLP server\n"
     ]
    }
   ],
   "source": [
    "close_mclp_server(port)"
   ]
  },
  {
   "cell_type": "code",
   "execution_count": null,
   "metadata": {},
   "outputs": [],
   "source": []
  }
 ],
 "metadata": {
  "kernelspec": {
   "display_name": "Python 3",
   "language": "python",
   "name": "python3"
  },
  "language_info": {
   "codemirror_mode": {
    "name": "ipython",
    "version": 3
   },
   "file_extension": ".py",
   "mimetype": "text/x-python",
   "name": "python",
   "nbconvert_exporter": "python",
   "pygments_lexer": "ipython3",
   "version": "3.9.6"
  }
 },
 "nbformat": 4,
 "nbformat_minor": 4
}
