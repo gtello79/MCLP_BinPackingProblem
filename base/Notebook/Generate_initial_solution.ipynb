{
 "cells": [
  {
   "cell_type": "code",
   "execution_count": null,
   "id": "a372f08a-992a-4d8d-90a4-194088f00fd3",
   "metadata": {},
   "outputs": [],
   "source": [
    "import paramiko\n",
    "import getpass\n",
    "\n",
    "host = \"158.251.88.197\"\n",
    "port = 22\n",
    "username = \"iaraya\"\n",
    "password = getpass.getpass()\n",
    "\n",
    "ssh = paramiko.SSHClient()\n",
    "ssh.set_missing_host_key_policy(paramiko.AutoAddPolicy())\n",
    "ssh.connect(host, port, username, password)"
   ]
  },
  {
   "cell_type": "markdown",
   "id": "65449f21-1e4a-4987-9ece-fc2a4f762a1f",
   "metadata": {},
   "source": [
    "### Loading the instance"
   ]
  },
  {
   "cell_type": "code",
   "execution_count": 148,
   "id": "ebcae899-d939-4b15-a60a-0224fd5c0856",
   "metadata": {},
   "outputs": [],
   "source": [
    "from bsg import load_BRinstance,load_BRKGAinstance, load_LargeInstance\n",
    "from mclp import generate_candidate_solution\n",
    "import numpy as np\n",
    "\n",
    "r_param = 100\n",
    "min_fr = 0.99\n",
    "max_bl = 10000\n",
    "bsg_time = 5\n",
    "i = 1\n",
    "file_name = \"../benchs/Data_Large/L_2500/L_2500_{}.txt\".format(i)\n",
    "\n",
    "# L,W,H,boxes,id2box = load_BRinstance(filename=\"BR8.txt\",inst=4, nbox=1)\n",
    "# L,W,H,boxes,id2box = load_BRKGAinstance(filename=\"../benchs/class7/200.txt\",inst=1, nbox=1)\n",
    "L,W,H,boxes,id2box = load_LargeInstance(filename=file_name, nbox=1, rot_allowed=True)\n",
    "_boxes=boxes.copy()\n",
    "\n",
    "extra_args = '--greedy_only --max_bl={} --min_fr={}'.format(max_bl, min_fr)"
   ]
  },
  {
   "cell_type": "markdown",
   "id": "484d63f7-c438-4cff-a05d-fdc728388101",
   "metadata": {},
   "source": [
    "### Solver"
   ]
  },
  {
   "cell_type": "code",
   "execution_count": 149,
   "id": "2d1d6229-91fd-4674-ab37-0ebf198417b7",
   "metadata": {},
   "outputs": [],
   "source": [
    "from mclp import get_random_bin\n",
    "\n",
    "def get_adjusted_vol(boxes):\n",
    "    vol=0.0\n",
    "    for box in boxes:\n",
    "        vol += box.adj_vol*boxes[box]\n",
    "    return vol\n",
    "\n",
    "def get_vol(boxes):\n",
    "    vol=0.0\n",
    "    for box in boxes:\n",
    "        vol += box.vol*boxes[box]\n",
    "    return vol\n",
    "      \n",
    "def adjusted_swap(solution, n=2,  max_vol_accept=1.0, tolerance=0.1, verbose=True):\n",
    "\n",
    "    bin_A = get_random_bin(s = solution)\n",
    "    bin_B = get_random_bin(s = solution, b = bin_A)\n",
    "\n",
    "    iniA = bin_A.adj_vol\n",
    "    iniB = bin_B.adj_vol\n",
    "    var_ini = (bin_A.adj_vol-1.0)**2 + (bin_B.adj_vol-1.0)**2\n",
    "\n",
    "    nA = int(random.randint(1, n))\n",
    "    boxes_A = bin_A.pop_random_boxes(nA)\n",
    "    adjvolA = get_adjusted_vol(boxes_A)\n",
    "\n",
    "    nB = int(random.randint(0, n))\n",
    "    boxes_B = bin_B.pop_random_boxes(nB)\n",
    "    adjvolB = get_adjusted_vol(boxes_B)\n",
    "\n",
    "    r = tolerance*random.random()\n",
    "    accepted = False\n",
    "\n",
    "    if adjvolA > adjvolB and bin_B.adj_vol + adjvolA <= max_vol_accept + r:\n",
    "        accepted = True\n",
    "    elif adjvolB > adjvolA and  bin_A.adj_vol + adjvolB <= max_vol_accept + r:\n",
    "        accepted = True\n",
    "\n",
    "    if accepted:\n",
    "        bin_A.insert_boxes(boxes_B)\n",
    "        bin_B.insert_boxes(boxes_A)\n",
    "    else: \n",
    "        return -10\n",
    "\n",
    "    var_final = (bin_A.adj_vol-1.0)**2 + (bin_B.adj_vol-1.0)**2\n",
    "\n",
    "    var_diff = var_final - var_ini\n",
    "\n",
    "    return var_diff\n",
    "\n",
    "def get_sorted_vols(solution):\n",
    "    volumens = []\n",
    "    for s in solution:\n",
    "        s_boxes = s.boxes\n",
    "        vol_boxes = get_vol(s_boxes)/(10**6)\n",
    "        volumens.append(vol_boxes)\n",
    "\n",
    "    volumens.sort()\n",
    "    return volumens\n",
    "\n",
    "def get_sorted_bins(solution):\n",
    "    list_solution = list(solution)\n",
    "    list_solution.sort(key=lambda x: x.vol)\n",
    "    return list_solution"
   ]
  },
  {
   "cell_type": "code",
   "execution_count": 150,
   "id": "1c7e6c2c-ae64-4d17-a299-ec5804f37167",
   "metadata": {},
   "outputs": [
    {
     "name": "stdout",
     "output_type": "stream",
     "text": [
      "Initial Solution: 19\n",
      "Solution Time 45.623820543289185\n",
      "File Name: ../benchs/Data_Large/L_2500/L_2500_1.txt\n"
     ]
    }
   ],
   "source": [
    "import time \n",
    "\n",
    "initial_time = time.time()\n",
    "boxes =_boxes.copy()\n",
    "init_solution = generate_candidate_solution(ssh,L,W,H,boxes,id2box, r_param=r_param, bsg_time=bsg_time , extra_args=extra_args)\n",
    "\n",
    "last_time = time.time()\n",
    "execution_time = last_time - initial_time\n",
    "\n",
    "print(\"Solution Time {}\".format(execution_time))\n",
    "print(\"File Name: {}\".format(file_name))"
   ]
  },
  {
   "cell_type": "code",
   "execution_count": 151,
   "id": "9ba03302",
   "metadata": {},
   "outputs": [
    {
     "name": "stdout",
     "output_type": "stream",
     "text": [
      "Less Volumen: 6.39512\n"
     ]
    },
    {
     "data": {
      "text/plain": [
       "<AxesSubplot:xlabel='Iterations'>"
      ]
     },
     "execution_count": 151,
     "metadata": {},
     "output_type": "execute_result"
    },
    {
     "data": {
      "image/png": "[encoded data removed]",
      "text/plain": [
       "<Figure size 1440x720 with 1 Axes>"
      ]
     },
     "metadata": {
      "needs_background": "light"
     },
     "output_type": "display_data"
    }
   ],
   "source": [
    "## Plotter solutions\n",
    "import matplotlib.pyplot as plt\n",
    "import pandas as pd\n",
    "\n",
    "bins_to_plot = get_sorted_vols(init_solution)\n",
    "eje_x = [x for x in range(0,len(bins_to_plot))]\n",
    "\n",
    "\n",
    "print(\"Less Volumen: {}\".format(bins_to_plot[0]))\n",
    "\n",
    "columns = pd.DataFrame({\n",
    "            'Iterations': eje_x,\n",
    "            'Volumen': bins_to_plot,\n",
    "            'Volumen Ajustado': bins_to_plot\n",
    "        })\n",
    "\n",
    "columns.plot(x='Iterations', y=[\"Volumen\", \"Volumen Ajustado\"], \n",
    "            kind='bar', figsize=(20,10), )\n"
   ]
  },
  {
   "cell_type": "code",
   "execution_count": 152,
   "id": "28f8233f",
   "metadata": {},
   "outputs": [
    {
     "data": {
      "image/png": "[encoded data removed]",
      "text/plain": [
       "<Figure size 720x432 with 1 Axes>"
      ]
     },
     "metadata": {
      "needs_background": "light"
     },
     "output_type": "display_data"
    }
   ],
   "source": [
    "## Plotter solutions\n",
    "import matplotlib.pyplot as plt\n",
    "\n",
    "# Se genera el listado para obtener volumenes de cajas\n",
    "vol_boxes = []\n",
    "\n",
    "# Se obtiene caja con menor volumen\n",
    "boxes_to_plot = get_sorted_bins(init_solution)[0].boxes\n",
    "vol_bin = get_vol(boxes_to_plot)/(10**6)\n",
    "\n",
    "for box in boxes_to_plot:\n",
    "    vol_box = (box.vol*boxes_to_plot[box])/(10**6)\n",
    "    vol_boxes.append(vol_box)\n",
    "\n",
    "vol_boxes.sort()\n",
    "eje_x = [x for x in range(0,len(vol_boxes))]\n",
    "\n",
    "plt.figure(figsize=(10, 6))\n",
    "\n",
    "plt.title('Volumen de cajas')\n",
    "plt.xlabel('Boxes')\n",
    "plt.ylabel('Volumen')\n",
    "\n",
    "\n",
    "graf = plt.bar(eje_x, vol_boxes)\n",
    "plt.show()"
   ]
  },
  {
   "cell_type": "markdown",
   "id": "e0c2d454",
   "metadata": {},
   "source": []
  }
 ],
 "metadata": {
  "kernelspec": {
   "display_name": "Python 3 (ipykernel)",
   "language": "python",
   "name": "python3"
  },
  "language_info": {
   "codemirror_mode": {
    "name": "ipython",
    "version": 3
   },
   "file_extension": ".py",
   "mimetype": "text/x-python",
   "name": "python",
   "nbconvert_exporter": "python",
   "pygments_lexer": "ipython3",
   "version": "3.7.4"
  }
 },
 "nbformat": 4,
 "nbformat_minor": 5
}
