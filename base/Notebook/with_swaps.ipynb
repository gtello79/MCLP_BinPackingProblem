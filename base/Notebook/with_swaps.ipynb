{
 "cells": [
  {
   "cell_type": "code",
   "execution_count": 28,
   "id": "a372f08a-992a-4d8d-90a4-194088f00fd3",
   "metadata": {},
   "outputs": [],
   "source": [
    "import paramiko\n",
    "import getpass\n",
    "\n",
    "host = \"158.251.88.197\"\n",
    "port = 22\n",
    "username = \"iaraya\"\n",
    "password = getpass.getpass()\n",
    "\n",
    "ssh = paramiko.SSHClient()\n",
    "ssh.set_missing_host_key_policy(paramiko.AutoAddPolicy())\n",
    "ssh.connect(host, port, username, password)"
   ]
  },
  {
   "cell_type": "markdown",
   "id": "65449f21-1e4a-4987-9ece-fc2a4f762a1f",
   "metadata": {},
   "source": [
    "### Loading the instance"
   ]
  },
  {
   "cell_type": "code",
   "execution_count": 29,
   "id": "ebcae899-d939-4b15-a60a-0224fd5c0856",
   "metadata": {},
   "outputs": [],
   "source": [
    "from bsg import load_LargeInstance\n",
    "from mclp import generate_candidate_solution\n",
    "import numpy as np\n",
    "\n",
    "#L,W,H,boxes,id2box = load_BRinstance(filename=\"BR8.txt\",inst=4, nbox=1)\n",
    "#L,W,H,boxes,id2box = load_BRKGAinstance(filename=\"../benchs/class7/200.txt\",inst=1, nbox=1)\n",
    "\n",
    "i = 15\n",
    "file_name = \"../benchs/Data_Large/L_2500/L_2500_{}.txt\".format(i)\n",
    "r_param = 1.5\n",
    "min_fr = 0.99\n",
    "max_bl = 10000 #\n",
    "bsg_time = 5 #Tiempo de BSG\n",
    "swap_iteration = 1000 #Numero de Swaps\n",
    "n = 2 #Cantidad de cajas a escoger para hacer swap\n",
    "\n",
    "L,W,H,boxes,id2box = load_LargeInstance(filename=file_name, nbox=1, rot_allowed=True)\n",
    "_boxes=boxes.copy()\n",
    "\n",
    "extra_args = f'--max_bl={max_bl} --min_fr={min_fr}'\n",
    "Vmax = L*W*H"
   ]
  },
  {
   "cell_type": "markdown",
   "id": "34e32561-b58e-475a-b5c6-99dbb5e7effd",
   "metadata": {},
   "source": [
    "### Estimating adjusted vols (optional)"
   ]
  },
  {
   "cell_type": "code",
   "execution_count": 30,
   "id": "89903219-00f4-4362-8515-0a1ff6444067",
   "metadata": {
    "tags": []
   },
   "outputs": [
    {
     "name": "stdout",
     "output_type": "stream",
     "text": [
      "Initial Solution: 19\n",
      "Initial Solution: 19\n",
      "Initial Solution: 19\n",
      "Initial Solution: 19\n",
      "Initial Solution: 19\n",
      "Initial Solution: 19\n",
      "Initial Solution: 19\n",
      "Initial Solution: 19\n",
      "Initial Solution: 19\n",
      "Initial Solution: 19\n"
     ]
    }
   ],
   "source": [
    "from sklearn.linear_model import LinearRegression\n",
    "\n",
    "boxes=_boxes.copy()\n",
    "nsols = 10\n",
    "bins = []\n",
    "extra_args_regr = '--greedy_only'\n",
    "bsg_time = 1\n",
    "\n",
    "for _ in range(nsols):\n",
    "    bin  = generate_candidate_solution(ssh,L,W,H,boxes,id2box, r_param=r_param, bsg_time=bsg_time, extra_args=extra_args_regr)\n",
    "    bins = [*bins,*bin[:-5]]\n",
    "    boxes=_boxes.copy()\n",
    "    \n",
    "#10x1 + 5x2 +7x3 = 1\n",
    "#7x3 + 1x7 = 1\n",
    "#7x3 + 14x1 = 1 \n",
    "#...\n",
    "\n",
    "X = []; y=[]\n",
    "for bin in bins:\n",
    "    x = np.zeros(len(_boxes))\n",
    "    i=0\n",
    "    for box in _boxes:\n",
    "        if box in bin.boxes:\n",
    "            x[i]=bin.boxes[box]\n",
    "        i+=1\n",
    "    X.append(x)\n",
    "    y.append(1.0)\n",
    "\n",
    "reg = LinearRegression(fit_intercept=False).fit(X, y)\n",
    "\n",
    "i = 0\n",
    "\n",
    "for box in _boxes:\n",
    "    vol = box.vol/(L*W*H) \n",
    "    if reg.coef_[i] < vol: \n",
    "        box.adj_vol=vol\n",
    "    else: \n",
    "        box.adj_vol=reg.coef_[i]\n",
    "    i+=1\n",
    "    \n",
    "#print( reg.coef_)"
   ]
  },
  {
   "cell_type": "code",
   "execution_count": 31,
   "id": "b9490c7e-b3d4-46e3-88cf-e8902c938c96",
   "metadata": {},
   "outputs": [],
   "source": [
    "import copy as cp\n",
    "\n",
    "i=0\n",
    "precomputed_vols = reg.coef_\n",
    "vols = cp.deepcopy(reg.coef_)\n",
    "for box in _boxes:\n",
    "    vol = box.vol/(L*W*H) \n",
    "    vols[i] = vol\n",
    "    if precomputed_vols[i] < vol: \n",
    "        precomputed_vols[i]=vol\n",
    "    box.adj_vol=precomputed_vols[i]\n",
    "    i+=1"
   ]
  },
  {
   "cell_type": "code",
   "execution_count": 32,
   "id": "eacbe508-1b67-409c-a124-667eecdb447c",
   "metadata": {},
   "outputs": [
    {
     "data": {
      "text/plain": [
       "(0.0024468087384274468, 0.012853556456035052)"
      ]
     },
     "execution_count": 32,
     "metadata": {},
     "output_type": "execute_result"
    },
    {
     "data": {
      "image/png": "[encoded data removed]",
      "text/plain": [
       "<Figure size 432x288 with 1 Axes>"
      ]
     },
     "metadata": {
      "needs_background": "light"
     },
     "output_type": "display_data"
    }
   ],
   "source": [
    "import matplotlib.pyplot as plt\n",
    "\n",
    "fig, ax = plt.subplots()\n",
    "\n",
    "ax.scatter(vols, precomputed_vols, s=25,cmap=plt.cm.coolwarm, zorder=10)\n",
    "\n",
    "lims = [\n",
    "    np.min([ax.get_xlim(), ax.get_ylim()]),  # min of both axes\n",
    "    np.max([ax.get_xlim(), ax.get_ylim()]),  # max of both axes\n",
    "]\n",
    "\n",
    "# now plot both limits against eachother\n",
    "ax.plot(lims, lims, 'k-', alpha=0.75, zorder=0)\n",
    "ax.set_aspect('equal')\n",
    "ax.set_xlim(lims)\n",
    "ax.set_ylim(lims)"
   ]
  },
  {
   "cell_type": "markdown",
   "id": "484d63f7-c438-4cff-a05d-fdc728388101",
   "metadata": {},
   "source": [
    "### Solver"
   ]
  },
  {
   "cell_type": "code",
   "execution_count": 33,
   "id": "2d1d6229-91fd-4674-ab37-0ebf198417b7",
   "metadata": {},
   "outputs": [],
   "source": [
    "from mclp import get_random_bin\n",
    "\n",
    "def get_adjusted_vol(boxes):\n",
    "    vol=0.0\n",
    "    for box in boxes:\n",
    "        vol += box.adj_vol*boxes[box]\n",
    "    return vol\n",
    "\n",
    "def get_vol(boxes):\n",
    "    vol=0.0\n",
    "    for box in boxes:\n",
    "        vol += box.vol*boxes[box]\n",
    "    return vol\n",
    "      \n",
    "def adjusted_swap(solution, n=2,  max_vol_accept=1.0, tolerance=0.1, verbose=True):\n",
    "\n",
    "    iter_record = {\n",
    "        'var_init': -1,\n",
    "        'var_final': -1,\n",
    "        'vols': [],\n",
    "        'adj_vols': []\n",
    "    }\n",
    "\n",
    "    bin_A = get_random_bin(s = solution)\n",
    "    bin_B = get_random_bin(s = solution, b = bin_A)\n",
    "    \n",
    "    iniA = bin_A.adj_vol\n",
    "    iniB = bin_B.adj_vol\n",
    "\n",
    "    iter_record['vols'] = [bin_A.vol, bin_B.vol]/Vmax\n",
    "    iter_record['adj_vols'] = [iniA, iniB]\n",
    "\n",
    "    var_ini = (bin_A.adj_vol-1.0)**2 + (bin_B.adj_vol-1.0)**2\n",
    "    iter_record['var_init'] = var_ini\n",
    "\n",
    "    nA = int(random.randint(1, n))\n",
    "    boxes_A = bin_A.pop_random_boxes(nA)\n",
    "    adjvolA = get_adjusted_vol(boxes_A)\n",
    "    \n",
    "    nB = int(random.randint(0, n))\n",
    "    boxes_B = bin_B.pop_random_boxes(nB)\n",
    "    adjvolB = get_adjusted_vol(boxes_B)\n",
    "    \n",
    "    r = tolerance*random.random()\n",
    "    accepted = False\n",
    "    \n",
    "    if adjvolA > adjvolB and bin_B.adj_vol + adjvolA <= max_vol_accept + r:\n",
    "        accepted = True\n",
    "    elif adjvolB > adjvolA and  bin_A.adj_vol + adjvolB <= max_vol_accept + r:\n",
    "        accepted = True\n",
    "    \n",
    "    if accepted:\n",
    "        bin_A.insert_boxes(boxes_B)\n",
    "        bin_B.insert_boxes(boxes_A)\n",
    "    else: \n",
    "        iter_record['var_final'] = -10\n",
    "        return -10, iter_record\n",
    "        \n",
    "    var_final = (bin_A.adj_vol-1.0)**2 + (bin_B.adj_vol-1.0)**2\n",
    "        \n",
    "    var_diff = var_final - var_ini\n",
    "    #if var_diff>0:\n",
    "    #    print(iniA, bin_A.adj_vol)\n",
    "    #    print(iniB, bin_B.adj_vol)\n",
    "    iter_record['var_final'] = var_final\n",
    "    \n",
    "    return var_diff, iter_record\n",
    "\n",
    "def get_sorted_vols(solution):\n",
    "    volumens = []\n",
    "    for s in solution:\n",
    "        s_boxes = s.boxes\n",
    "        vol_boxes = get_vol(s_boxes)/(10**6)\n",
    "        volumens.append(vol_boxes)\n",
    "\n",
    "    volumens.sort()\n",
    "    return volumens\n",
    "\n",
    "def get_sorted_bins(solution):\n",
    "    solution = cp.deepcopy(solution)\n",
    "    list_solution = list(solution)\n",
    "    list_solution.sort(key=lambda x: x.vol)\n",
    "    return list_solution"
   ]
  },
  {
   "cell_type": "code",
   "execution_count": 34,
   "id": "1c7e6c2c-ae64-4d17-a299-ec5804f37167",
   "metadata": {},
   "outputs": [
    {
     "name": "stdout",
     "output_type": "stream",
     "text": [
      "Initial Solution: 19\n",
      "Less Volumen: 33.35983\n",
      "Generation time: 27.45499873161316\n"
     ]
    }
   ],
   "source": [
    "import time as time\n",
    "\n",
    "boxes=_boxes.copy()\n",
    "\n",
    "initial_generation = time.time()\n",
    "init_solution=generate_candidate_solution(ssh,L,W,H,boxes,id2box, r_param=r_param, bsg_time=bsg_time ,extra_args=extra_args)\n",
    "\n",
    "complete_generation = time.time()\n",
    "generation_time= complete_generation-initial_generation\n",
    "\n",
    "boxes_to_plot = get_sorted_bins(init_solution)[0].boxes\n",
    "vol_bin = get_vol(boxes_to_plot)/(10**6)\n",
    "\n",
    "\n",
    "print(\"Less Volumen: {}\".format(vol_bin))\n",
    "print(\"Generation time: {}\".format(generation_time))"
   ]
  },
  {
   "cell_type": "code",
   "execution_count": 35,
   "id": "3adef7ea-b990-4f1a-a7b5-c27c1779e90c",
   "metadata": {},
   "outputs": [
    {
     "name": "stdout",
     "output_type": "stream",
     "text": [
      "adjusted volumes of each bin: [1.0322801394240246, 1.038231225856383, 1.0212870564277619, 1.0244991459490898, 1.032567505209076, 1.014060785853747, 1.0421174712725874, 1.0500103683931077, 1.0371667877310748, 1.0379805717056856, 1.0584854526936422, 1.054947237003377, 1.0221060750733129, 1.0591726554901877, 1.0523279636538114, 1.0679504824375181, 1.0505467223550216, 1.0763816754288673, 0.19775833471876444]\n",
      "[0.9276710185949211, 0.9347229115136657, 0.9256965375197983, 0.9222852713594768, 0.9247927210601109, 0.924562192524919, 0.9350623084704832, 0.9276806401719025, 0.931780711135204, 0.931999254411208, 0.9301913990276256, 0.9255339718000477, 0.9245878871409042, 0.9345773921138274, 0.9228826155650809, 0.9375405041278094, 0.9124971243025156, 0.9151049887848841, 0.1736578685687579]\n"
     ]
    }
   ],
   "source": [
    "import copy as cp\n",
    "for bin in init_solution:\n",
    "    bin.set_adj_vol(get_adjusted_vol(bin.boxes))\n",
    "    bin.set_vol(get_vol(bin.boxes))\n",
    "\n",
    "# Bins adjusted volumes\n",
    "print(\"adjusted volumes of each bin:\",[get_adjusted_vol(bin.boxes) for bin in init_solution])\n",
    "print([get_vol(bin.boxes)/(L*W*H) for bin in init_solution])\n",
    "best_solution = cp.deepcopy(init_solution)\n",
    "\n",
    "operations_ = {}"
   ]
  },
  {
   "cell_type": "code",
   "execution_count": 36,
   "id": "70391d2c-576a-4e5e-9e16-cbb836597e31",
   "metadata": {},
   "outputs": [
    {
     "ename": "NameError",
     "evalue": "name 'Vmax' is not defined",
     "output_type": "error",
     "traceback": [
      "\u001b[0;31m---------------------------------------------------------------------------\u001b[0m",
      "\u001b[0;31mNameError\u001b[0m                                 Traceback (most recent call last)",
      "\u001b[0;32m<ipython-input-36-438ca16463e1>\u001b[0m in \u001b[0;36m<module>\u001b[0;34m\u001b[0m\n\u001b[1;32m     11\u001b[0m     \u001b[0msolution\u001b[0m \u001b[0;34m=\u001b[0m \u001b[0mcp\u001b[0m\u001b[0;34m.\u001b[0m\u001b[0mdeepcopy\u001b[0m\u001b[0;34m(\u001b[0m\u001b[0mbest_solution\u001b[0m\u001b[0;34m)\u001b[0m\u001b[0;34m\u001b[0m\u001b[0;34m\u001b[0m\u001b[0m\n\u001b[1;32m     12\u001b[0m \u001b[0;34m\u001b[0m\u001b[0m\n\u001b[0;32m---> 13\u001b[0;31m     \u001b[0mdiff_var\u001b[0m\u001b[0;34m,\u001b[0m \u001b[0mi_record\u001b[0m \u001b[0;34m=\u001b[0m \u001b[0madjusted_swap\u001b[0m\u001b[0;34m(\u001b[0m\u001b[0msolution\u001b[0m\u001b[0;34m,\u001b[0m \u001b[0mn\u001b[0m\u001b[0;34m=\u001b[0m\u001b[0mn\u001b[0m\u001b[0;34m,\u001b[0m  \u001b[0mmax_vol_accept\u001b[0m\u001b[0;34m=\u001b[0m\u001b[0;36m1.1\u001b[0m\u001b[0;34m,\u001b[0m \u001b[0mtolerance\u001b[0m\u001b[0;34m=\u001b[0m\u001b[0;36m0.3\u001b[0m\u001b[0;34m,\u001b[0m \u001b[0mverbose\u001b[0m\u001b[0;34m=\u001b[0m\u001b[0;32mTrue\u001b[0m\u001b[0;34m)\u001b[0m\u001b[0;34m\u001b[0m\u001b[0;34m\u001b[0m\u001b[0m\n\u001b[0m\u001b[1;32m     14\u001b[0m \u001b[0;34m\u001b[0m\u001b[0m\n\u001b[1;32m     15\u001b[0m     \u001b[0mswap_record\u001b[0m\u001b[0;34m[\u001b[0m\u001b[0mstr\u001b[0m\u001b[0;34m(\u001b[0m\u001b[0mi\u001b[0m\u001b[0;34m)\u001b[0m\u001b[0;34m]\u001b[0m \u001b[0;34m=\u001b[0m \u001b[0mi_record\u001b[0m\u001b[0;34m\u001b[0m\u001b[0;34m\u001b[0m\u001b[0m\n",
      "\u001b[0;32m<ipython-input-33-d71ef9b21728>\u001b[0m in \u001b[0;36madjusted_swap\u001b[0;34m(solution, n, max_vol_accept, tolerance, verbose)\u001b[0m\n\u001b[1;32m     28\u001b[0m     \u001b[0miniB\u001b[0m \u001b[0;34m=\u001b[0m \u001b[0mbin_B\u001b[0m\u001b[0;34m.\u001b[0m\u001b[0madj_vol\u001b[0m\u001b[0;34m\u001b[0m\u001b[0;34m\u001b[0m\u001b[0m\n\u001b[1;32m     29\u001b[0m \u001b[0;34m\u001b[0m\u001b[0m\n\u001b[0;32m---> 30\u001b[0;31m     \u001b[0miter_record\u001b[0m\u001b[0;34m[\u001b[0m\u001b[0;34m'vols'\u001b[0m\u001b[0;34m]\u001b[0m \u001b[0;34m=\u001b[0m \u001b[0;34m[\u001b[0m\u001b[0mbin_A\u001b[0m\u001b[0;34m.\u001b[0m\u001b[0mvol\u001b[0m\u001b[0;34m,\u001b[0m \u001b[0mbin_B\u001b[0m\u001b[0;34m.\u001b[0m\u001b[0mvol\u001b[0m\u001b[0;34m]\u001b[0m\u001b[0;34m/\u001b[0m\u001b[0mVmax\u001b[0m\u001b[0;34m\u001b[0m\u001b[0;34m\u001b[0m\u001b[0m\n\u001b[0m\u001b[1;32m     31\u001b[0m     \u001b[0miter_record\u001b[0m\u001b[0;34m[\u001b[0m\u001b[0;34m'adj_vols'\u001b[0m\u001b[0;34m]\u001b[0m \u001b[0;34m=\u001b[0m \u001b[0;34m[\u001b[0m\u001b[0miniA\u001b[0m\u001b[0;34m,\u001b[0m \u001b[0miniB\u001b[0m\u001b[0;34m]\u001b[0m\u001b[0;34m\u001b[0m\u001b[0;34m\u001b[0m\u001b[0m\n\u001b[1;32m     32\u001b[0m \u001b[0;34m\u001b[0m\u001b[0m\n",
      "\u001b[0;31mNameError\u001b[0m: name 'Vmax' is not defined"
     ]
    }
   ],
   "source": [
    "### ALGORITMO GENERAL\n",
    "from base.Heuristics.mclp import verify_solution\n",
    "\n",
    "swap_record = {}\n",
    "\n",
    "initial_time = time.time()\n",
    "\n",
    "for i in range(swap_iteration):\n",
    "    solution = cp.deepcopy(best_solution)\n",
    "    \n",
    "    diff_var, i_record = adjusted_swap(solution, n=n,  max_vol_accept=1.1, tolerance=0.3, verbose=True)\n",
    "\n",
    "    swap_record[str(i)] = i_record\n",
    "\n",
    "    if diff_var>0:\n",
    "        verified_solution=True\n",
    "        #max_bl: maxima cantidad de bloques a generar por bsg\n",
    "        #min_fr: minimo porcentaje ocupado para considerar la generación de un bloque\n",
    "        if not verify_solution(ssh, solution, id2box, bsg_time=1, args=\"--max_bl=10000 --min_fr=0.99\", verbose=False):\n",
    "            #print(i,\"verification fails\", [(b.adj_vol,b.vol) for b in solution if b.verify==False])\n",
    "            verified_solution=False\n",
    "\n",
    "        if verified_solution:\n",
    "            minAdj = 1.0\n",
    "            minB = None\n",
    "            for bin in solution:\n",
    "                if bin.adj_vol < minAdj:\n",
    "                    minAdj=bin.adj_vol\n",
    "                    minB=bin\n",
    "            print(diff_var)\n",
    "            print(bin.id, \":\", bin, bin.utilization, bin.adj_vol, bin.verify)\n",
    "            best_solution = cp.deepcopy(solution)\n",
    "\n",
    "final_time = time.time()\n",
    "resolution_time = final_time - initial_time\n"
   ]
  },
  {
   "cell_type": "code",
   "execution_count": null,
   "id": "2716fa48-5c8e-4134-b6da-e945155f7d63",
   "metadata": {},
   "outputs": [],
   "source": [
    "print([get_vol(bin.boxes)/(L*W*H) for bin in best_solution])\n",
    "\n",
    "print(f\"Solution: {len(best_solution)}\")\n",
    "\n",
    "boxes_to_plot = get_sorted_bins(best_solution)[0].boxes\n",
    "vol_bin = get_vol(boxes_to_plot)/(10**6)\n",
    "\n",
    "print(f\"Less Volumen: {vol_bin}\")\n",
    "print(f\"Swapping time: {resolution_time}\")"
   ]
  },
  {
   "cell_type": "code",
   "execution_count": null,
   "id": "cf863ee5",
   "metadata": {},
   "outputs": [],
   "source": [
    "## Plotter solutions\n",
    "import pandas as pd\n",
    "\n",
    "bins_to_plot = get_sorted_vols(init_solution)\n",
    "eje_x = [x for x in range(0,len(bins_to_plot))]\n",
    "\n",
    "iterations = []\n",
    "min_vols = []\n",
    "min_adj_vols = []\n",
    "var_init = []\n",
    "var_final = []\n",
    "\n",
    "for i in range(swap_iteration):\n",
    "    if i%50 == 0:\n",
    "        iteration_pack = swap_record[str(i)]\n",
    "        min_ajd_vol = min(iteration_pack['adj_vols'])\n",
    "        index = iteration_pack['vols'].index(min_adj_vols)\n",
    "\n",
    "        min_vol = (iteration_pack['vols'])[index]\n",
    "\n",
    "        v_init = iteration_pack['var_init']\n",
    "        v_final = iteration_pack['var_final']\n",
    "\n",
    "        min_adj_vols.append(min_ajd_vol)\n",
    "        min_vols.append(min_vol)\n",
    "        var_init.append(v_init)\n",
    "        var_final.append(v_final)\n",
    "\n",
    "        iterations.append(i)\n",
    "\n",
    "columns = pd.DataFrame({\n",
    "            'Iterations': iterations,\n",
    "            'Volumen': min_vols,\n",
    "            'Volumen Ajustado': min_adj_vols\n",
    "        })\n",
    "\n",
    "columns.plot(x='Iterations', y=[\"Volumen\", \"Volumen Ajustado\"], kind='bar', figsize=(20,10), color=['#FF0000', '#0000FF'])"
   ]
  },
  {
   "cell_type": "code",
   "execution_count": null,
   "id": "cb8d713f",
   "metadata": {},
   "outputs": [],
   "source": [
    "columns = pd.DataFrame({\n",
    "            'Iterations': iterations,\n",
    "            'Varianza inicial': var_init,\n",
    "            'Varianza final': var_final\n",
    "        })\n",
    "\n",
    "columns.plot(x='Iterations', y=[\"Varianza inicial\", \"Varianza final\"], kind='bar', figsize=(20,10), )"
   ]
  }
 ],
 "metadata": {
  "kernelspec": {
   "display_name": "Python 3 (ipykernel)",
   "language": "python",
   "name": "python3"
  },
  "language_info": {
   "codemirror_mode": {
    "name": "ipython",
    "version": 3
   },
   "file_extension": ".py",
   "mimetype": "text/x-python",
   "name": "python",
   "nbconvert_exporter": "python",
   "pygments_lexer": "ipython3",
   "version": "3.7.4"
  }
 },
 "nbformat": 4,
 "nbformat_minor": 5
}
