{
 "cells": [
  {
   "cell_type": "code",
   "execution_count": 1,
   "metadata": {},
   "outputs": [
    {
     "name": "stdin",
     "output_type": "stream",
     "text": [
      " ······\n"
     ]
    }
   ],
   "source": [
    "import paramiko\n",
    "import getpass\n",
    "\n",
    "host = \"158.251.88.197\"\n",
    "port = 22\n",
    "username = \"iaraya\"\n",
    "password = getpass.getpass()\n",
    "\n",
    "ssh = paramiko.SSHClient()\n",
    "ssh.set_missing_host_key_policy(paramiko.AutoAddPolicy())\n",
    "ssh.connect(host, port, username, password)"
   ]
  },
  {
   "cell_type": "markdown",
   "metadata": {},
   "source": [
    "## Solving instances"
   ]
  },
  {
   "cell_type": "code",
   "execution_count": 2,
   "metadata": {},
   "outputs": [],
   "source": [
    "from bsg import load_BRinstance\n",
    "import numpy as np\n",
    "\n",
    "L,W,H,boxes,id2box = load_BRinstance(filename=\"BR8.txt\",inst=4, nbox=1)\n",
    "\n",
    "#Dimension del contenedor\n",
    "L = int(L/2)\n",
    "W = int(W/2)\n",
    "H = int(H/2)"
   ]
  },
  {
   "cell_type": "code",
   "execution_count": 3,
   "metadata": {},
   "outputs": [
    {
     "name": "stdout",
     "output_type": "stream",
     "text": [
      "{\"remaining\" :[[22,2],[27,3],[12,2],[14,3]], \"loaded\" :[[22,3],[27,1],[4,8],[10,6]], \"utilization\" : 0.90774819}\n",
      "\n",
      "{\"remaining\" :[[19,1],[28,6]], \"loaded\" :[[11,8],[7,7],[19,3],[27,3]], \"utilization\" : 0.85564879}\n",
      "\n",
      "{\"remaining\" :[[17,2],[14,3],[21,4]], \"loaded\" :[[20,6],[17,6],[18,6],[11,1],[21,1]], \"utilization\" : 0.87086137}\n",
      "\n",
      "{\"remaining\" :[[23,5],[29,6],[21,1]], \"loaded\" :[[26,2],[29,3],[21,3],[6,4]], \"utilization\" : 0.81880503}\n",
      "\n",
      "{\"remaining\" :[[28,5]], \"loaded\" :[[3,3],[1,4],[17,2],[28,1]], \"utilization\" : 0.71307387}\n",
      "\n",
      "{\"remaining\" :[[30,1],[24,1],[23,1],[12,2],[5,2],[9,2]], \"loaded\" :[[30,7],[24,2],[14,3],[23,4]], \"utilization\" : 0.89459034}\n",
      "\n",
      "{\"remaining\" :[[29,5],[30,1],[2,1],[13,1],[28,3]], \"loaded\" :[[29,1],[22,2],[24,1],[16,4],[2,5],[13,2],[28,2]], \"utilization\" : 0.88317321}\n",
      "\n",
      "{\"remaining\" :[[23,1],[29,5],[8,1],[28,2]], \"loaded\" :[[21,1],[15,3],[12,2],[2,1],[8,5],[13,1],[30,1],[28,1]], \"utilization\" : 0.86461077}\n",
      "\n",
      "{\"remaining\" :[[19,1],[29,3],[23,1]], \"loaded\" :[[5,2],[9,2],[8,1],[29,2],[28,2],[25,3]], \"utilization\" : 0.86926964}\n",
      "\n",
      "{\"remaining\" :[], \"loaded\" :[[19,1],[29,3],[23,1]], \"utilization\" : 0.31208528}\n",
      "\n",
      "Initial Solution: 10\n"
     ]
    }
   ],
   "source": [
    "from mclp import generate_candidate_solution\n",
    "r_param = 1.5 \n",
    "total_test = 100\n",
    "\n",
    "#Creacion de solucion candidata\n",
    "init_solution = generate_candidate_solution(ssh,L,W,H,boxes,id2box, r_param=r_param, bsg_time=1)"
   ]
  },
  {
   "cell_type": "code",
   "execution_count": 4,
   "metadata": {},
   "outputs": [
    {
     "name": "stdout",
     "output_type": "stream",
     "text": [
      "1 : [22, 3], [27, 1], [4, 8], [10, 6],  0.90774819\n",
      "2 : [11, 8], [7, 7], [19, 3], [27, 3],  0.85564879\n",
      "3 : [20, 6], [17, 6], [18, 6], [11, 1], [21, 1],  0.87086137\n",
      "4 : [26, 2], [29, 3], [21, 3], [6, 4],  0.81880503\n",
      "5 : [3, 3], [1, 4], [17, 2], [28, 1],  0.71307387\n",
      "6 : [30, 7], [24, 2], [14, 3], [23, 4],  0.89459034\n",
      "7 : [29, 1], [22, 2], [24, 1], [16, 4], [2, 5], [13, 2], [28, 2],  0.88317321\n",
      "8 : [21, 1], [15, 3], [12, 2], [2, 1], [8, 5], [13, 1], [30, 1], [28, 1],  0.86461077\n",
      "9 : [5, 2], [9, 2], [8, 1], [29, 2], [28, 2], [25, 3],  0.86926964\n",
      "10 : [19, 1], [29, 3], [23, 1],  0.31208528\n"
     ]
    },
    {
     "data": {
      "text/plain": [
       "0.7989866476938385"
      ]
     },
     "execution_count": 4,
     "metadata": {},
     "output_type": "execute_result"
    }
   ],
   "source": [
    "from mclp import get_media_volumen\n",
    "for bin in init_solution:\n",
    "    print(bin.id, \":\", bin, bin.utilization)\n",
    "get_media_volumen(init_solution)"
   ]
  },
  {
   "cell_type": "code",
   "execution_count": 5,
   "metadata": {},
   "outputs": [
    {
     "name": "stdout",
     "output_type": "stream",
     "text": [
      "119 59 39\n",
      "0 1 1\n"
     ]
    }
   ],
   "source": [
    "i=6\n",
    "print(id2box[i].l,id2box[i].w,id2box[i].h)\n",
    "print(id2box[i].rotx,id2box[i].roty,id2box[i].rotz)"
   ]
  },
  {
   "cell_type": "code",
   "execution_count": null,
   "metadata": {},
   "outputs": [
    {
     "name": "stdout",
     "output_type": "stream",
     "text": [
      "{\"remaining\" :[[29,1],[23,1]], \"loaded\" :[[3,3],[1,4],[17,2],[28,1]], \"utilization\" : 0.71307387}\n",
      "\n",
      "22 verification fails\n",
      "{\"remaining\" :[[6,1]], \"loaded\" :[[26,2],[29,3],[21,3],[6,2],[19,1]], \"utilization\" : 0.76547204}\n",
      "\n",
      "25 verification fails\n",
      "{\"remaining\" :[[5,1]], \"loaded\" :[[26,2],[29,2],[21,2],[6,4],[9,1]], \"utilization\" : 0.75077033}\n",
      "\n",
      "28 verification fails\n"
     ]
    }
   ],
   "source": [
    "import copy as cp \n",
    "from mclp import random_swap\n",
    "from mclp import verify_solution\n",
    "\n",
    "best_solution = cp.deepcopy(init_solution)\n",
    "media = get_media_volumen(init_solution)\n",
    "\n",
    "for i in range(1000):\n",
    "    solution = cp.deepcopy(best_solution)\n",
    "    solution, diff_var = random_swap(solution = solution, media_volumen = media, verbose=False)\n",
    "\n",
    "    if solution is not None and diff_var>0:\n",
    "        verified_solution=True\n",
    "        if not verify_solution(ssh, solution, id2box, bsg_time=2):\n",
    "            print(i,\"verification fails\")\n",
    "            verified_solution=False\n",
    "\n",
    "        if verified_solution:\n",
    "            for bin in solution:\n",
    "                print(bin.id, \":\", bin, bin.utilization, bin.verify, bin.p)\n",
    "            best_solution = cp.deepcopy(solution)\n",
    "\n",
    "    "
   ]
  }
 ],
 "metadata": {
  "interpreter": {
   "hash": "c36899d9a7449e20c1ec5886b850b9a1fef29079c6b40be15f31890b91b1f42b"
  },
  "kernelspec": {
   "display_name": "Python 3 (ipykernel)",
   "language": "python",
   "name": "python3"
  },
  "language_info": {
   "codemirror_mode": {
    "name": "ipython",
    "version": 3
   },
   "file_extension": ".py",
   "mimetype": "text/x-python",
   "name": "python",
   "nbconvert_exporter": "python",
   "pygments_lexer": "ipython3",
   "version": "3.8.0"
  },
  "metadata": {
   "interpreter": {
    "hash": "31f2aee4e71d21fbe5cf8b01ff0e069b9275f58929596ceb00d14d90e3e16cd6"
   }
  }
 },
 "nbformat": 4,
 "nbformat_minor": 4
}
