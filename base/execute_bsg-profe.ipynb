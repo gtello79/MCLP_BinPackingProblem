{
 "cells": [
  {
   "cell_type": "code",
   "execution_count": 1,
   "metadata": {},
   "outputs": [
    {
     "name": "stdin",
     "output_type": "stream",
     "text": [
      " ······\n"
     ]
    }
   ],
   "source": [
    "import paramiko\n",
    "import getpass\n",
    "\n",
    "host = \"158.251.88.197\"\n",
    "port = 22\n",
    "username = \"iaraya\"\n",
    "password = getpass.getpass()\n",
    "\n",
    "ssh = paramiko.SSHClient()\n",
    "ssh.set_missing_host_key_policy(paramiko.AutoAddPolicy())\n",
    "ssh.connect(host, port, username, password)"
   ]
  },
  {
   "cell_type": "markdown",
   "metadata": {},
   "source": [
    "## Solving instances"
   ]
  },
  {
   "cell_type": "code",
   "execution_count": 2,
   "metadata": {},
   "outputs": [],
   "source": [
    "from bsg import load_BRinstance\n",
    "import numpy as np\n",
    "\n",
    "L,W,H,boxes,id2box = load_BRinstance(filename=\"BR8.txt\",inst=4, nbox=1)\n",
    "_boxes=boxes.copy()\n",
    "\n",
    "#Dimension del contenedor\n",
    "L = int(L/2)\n",
    "W = int(W/2)\n",
    "H = int(H/2)"
   ]
  },
  {
   "cell_type": "code",
   "execution_count": 15,
   "metadata": {},
   "outputs": [
    {
     "name": "stdout",
     "output_type": "stream",
     "text": [
      "{\"remaining\" :[[17,4],[26,2],[14,3]], \"loaded\" :[[12,2],[16,4],[17,4],[4,8]], \"utilization\" : 0.84837643}\n",
      "\n",
      "{\"remaining\" :[[19,3],[20,1],[29,8]], \"loaded\" :[[15,3],[19,1],[26,2],[25,3],[13,3],[20,5]], \"utilization\" : 0.88732761}\n",
      "\n",
      "{\"remaining\" :[[9,1],[28,4],[6,1]], \"loaded\" :[[9,1],[28,2],[20,1],[6,3]], \"utilization\" : 0.67517332}\n",
      "\n",
      "{\"remaining\" :[[19,3],[6,1],[8,6],[10,2],[27,1]], \"loaded\" :[[21,5],[5,2],[10,4],[27,3]], \"utilization\" : 0.91619395}\n",
      "\n",
      "{\"remaining\" :[[6,1],[28,4],[23,1]], \"loaded\" :[[18,6],[8,6],[22,5],[23,4]], \"utilization\" : 0.87217039}\n",
      "\n",
      "{\"remaining\" :[[2,1],[28,3],[27,1],[6,1]], \"loaded\" :[[2,5],[3,3],[24,3],[1,4],[28,1],[10,2]], \"utilization\" : 0.89309195}\n",
      "\n",
      "{\"remaining\" :[[28,3],[19,3],[29,1],[14,1]], \"loaded\" :[[11,8],[6,1],[29,7],[14,2]], \"utilization\" : 0.8460042}\n",
      "\n",
      "{\"remaining\" :[[28,3],[19,1],[14,1],[30,1]], \"loaded\" :[[19,2],[11,1],[27,1],[23,1],[2,1],[30,7],[7,7]], \"utilization\" : 0.86115233}\n",
      "\n",
      "{\"remaining\" :[[28,2],[17,2]], \"loaded\" :[[30,1],[28,1],[17,2],[14,1],[9,1],[19,1],[29,2]], \"utilization\" : 0.71400601}\n",
      "\n",
      "{\"remaining\" :[], \"loaded\" :[[28,2],[17,2]], \"utilization\" : 0.47637027}\n",
      "\n",
      "Initial Solution: 10\n"
     ]
    }
   ],
   "source": [
    "from mclp import generate_candidate_solution\n",
    "r_param = 1.5 \n",
    "total_test = 100\n",
    "\n",
    "#Creacion de solucion candidata\n",
    "init_solution = generate_candidate_solution(ssh,L,W,H,boxes,id2box, r_param=r_param, bsg_time=1)"
   ]
  },
  {
   "cell_type": "code",
   "execution_count": 50,
   "metadata": {},
   "outputs": [
    {
     "name": "stdout",
     "output_type": "stream",
     "text": [
      "1 : [12, 2], [16, 4], [17, 4], [4, 8],  0.84837643\n",
      "2 : [15, 3], [19, 1], [26, 2], [25, 3], [13, 3], [20, 5],  0.88732761\n",
      "3 : [9, 1], [28, 2], [20, 1], [6, 3],  0.67517332\n",
      "4 : [21, 5], [5, 2], [10, 4], [27, 3],  0.91619395\n",
      "5 : [18, 6], [8, 6], [22, 5], [23, 4],  0.87217039\n",
      "6 : [2, 5], [3, 3], [24, 3], [1, 4], [28, 1], [10, 2],  0.89309195\n",
      "7 : [11, 8], [6, 1], [29, 7], [14, 2],  0.8460042\n",
      "8 : [19, 2], [11, 1], [27, 1], [23, 1], [2, 1], [30, 7], [7, 7],  0.86115233\n",
      "9 : [30, 1], [28, 1], [17, 2], [14, 1], [9, 1], [19, 1], [29, 2],  0.71400601\n",
      "10 : [28, 2], [17, 2],  0.47637027\n"
     ]
    },
    {
     "data": {
      "text/plain": [
       "0.7989866476938385"
      ]
     },
     "execution_count": 50,
     "metadata": {},
     "output_type": "execute_result"
    }
   ],
   "source": [
    "from mclp import get_media_volumen\n",
    "for bin in init_solution:\n",
    "    print(bin.id, \":\", bin, bin.utilization)\n",
    "get_media_volumen(init_solution)"
   ]
  },
  {
   "cell_type": "code",
   "execution_count": 5,
   "metadata": {},
   "outputs": [
    {
     "name": "stdout",
     "output_type": "stream",
     "text": [
      "119 59 39\n",
      "0 1 1\n"
     ]
    }
   ],
   "source": [
    "i=6\n",
    "print(id2box[i].l,id2box[i].w,id2box[i].h)\n",
    "print(id2box[i].rotx,id2box[i].roty,id2box[i].rotz)"
   ]
  },
  {
   "cell_type": "code",
   "execution_count": null,
   "metadata": {},
   "outputs": [
    {
     "name": "stdout",
     "output_type": "stream",
     "text": [
      "{\"remaining\" :[[29,1],[23,1]], \"loaded\" :[[3,3],[1,4],[17,2],[28,1]], \"utilization\" : 0.71307387}\n",
      "\n",
      "22 verification fails\n",
      "{\"remaining\" :[[6,1]], \"loaded\" :[[26,2],[29,3],[21,3],[6,2],[19,1]], \"utilization\" : 0.76547204}\n",
      "\n",
      "25 verification fails\n",
      "{\"remaining\" :[[5,1]], \"loaded\" :[[26,2],[29,2],[21,2],[6,4],[9,1]], \"utilization\" : 0.75077033}\n",
      "\n",
      "28 verification fails\n"
     ]
    }
   ],
   "source": [
    "import copy as cp \n",
    "from mclp import random_swap\n",
    "from mclp import verify_solution\n",
    "\n",
    "best_solution = cp.deepcopy(init_solution)\n",
    "media = get_media_volumen(init_solution)\n",
    "\n",
    "for i in range(1000):\n",
    "    solution = cp.deepcopy(best_solution)\n",
    "    solution, diff_var = random_swap(solution = solution, media_volumen = media, verbose=False)\n",
    "\n",
    "    if solution is not None and diff_var>0:\n",
    "        verified_solution=True\n",
    "        if not verify_solution(ssh, solution, id2box, bsg_time=2):\n",
    "            print(i,\"verification fails\")\n",
    "            verified_solution=False\n",
    "\n",
    "        if verified_solution:\n",
    "            for bin in solution:\n",
    "                print(bin.id, \":\", bin, bin.utilization, bin.verify, bin.p)\n",
    "            best_solution = cp.deepcopy(solution)\n",
    "\n",
    "    "
   ]
  },
  {
   "cell_type": "markdown",
   "metadata": {},
   "source": [
    "### Estimation of adjusted volumes"
   ]
  },
  {
   "cell_type": "code",
   "execution_count": 17,
   "metadata": {},
   "outputs": [
    {
     "name": "stdout",
     "output_type": "stream",
     "text": [
      "Initial Solution: 10\n",
      "Initial Solution: 10\n",
      "Initial Solution: 10\n",
      "Initial Solution: 10\n",
      "Initial Solution: 10\n"
     ]
    }
   ],
   "source": [
    "from mclp import generate_candidate_solution\n",
    "r_param = 1.5 \n",
    "total_test = 100\n",
    "\n",
    "boxes=_boxes.copy()\n",
    "#Creacion de solucion candidata\n",
    "bins1 = generate_candidate_solution(ssh,L,W,H,boxes,id2box, r_param=r_param, bsg_time=1)\n",
    "boxes=_boxes.copy()\n",
    "bins2 = generate_candidate_solution(ssh,L,W,H,boxes,id2box, r_param=r_param, bsg_time=1)\n",
    "boxes=_boxes.copy()\n",
    "bins3 = generate_candidate_solution(ssh,L,W,H,boxes,id2box, r_param=r_param, bsg_time=1)\n",
    "boxes=_boxes.copy()\n",
    "bins4 = generate_candidate_solution(ssh,L,W,H,boxes,id2box, r_param=r_param, bsg_time=1)\n",
    "boxes=_boxes.copy()\n",
    "bins5 = generate_candidate_solution(ssh,L,W,H,boxes,id2box, r_param=r_param, bsg_time=1)"
   ]
  },
  {
   "cell_type": "code",
   "execution_count": 41,
   "metadata": {
    "tags": []
   },
   "outputs": [
    {
     "data": {
      "text/plain": [
       "array([ 9.57547722e-02, -2.38411283e-04,  9.00518903e-03,  2.22239154e-02,\n",
       "        1.49428323e-01,  9.21527916e-02,  3.57025259e-02, -1.23665442e-02,\n",
       "        3.42634762e-02,  8.29307381e-02,  3.02056226e-02,  1.61588516e-01,\n",
       "        1.05730012e-01,  1.22543496e-01,  2.34327383e-02, -3.83339342e-03,\n",
       "        7.32290200e-02,  2.63558051e-02,  9.80034337e-02,  6.38454996e-02,\n",
       "        8.86195880e-02,  8.40517687e-02,  6.86853234e-02,  5.62478476e-02,\n",
       "        4.87644869e-02,  1.16165472e-01,  6.40687979e-02,  2.97148566e-01,\n",
       "        7.05680527e-02,  3.00825444e-02])"
      ]
     },
     "execution_count": 41,
     "metadata": {},
     "output_type": "execute_result"
    }
   ],
   "source": [
    "from sklearn.linear_model import LinearRegression\n",
    "bins=[*bins1[:-2],*bins2[:-2],*bins3[:-2],*bins4[:-2],*bins5[:-2]]\n",
    "X = []; y=[]\n",
    "for bin in bins:\n",
    "    x = np.zeros(len(_boxes))\n",
    "    i=0\n",
    "    for box in _boxes:\n",
    "        if box in bin.boxes:\n",
    "            x[i]=bin.boxes[box]\n",
    "        i+=1\n",
    "    X.append(x)\n",
    "    y.append(1.0)\n",
    "\n",
    "reg = LinearRegression(fit_intercept=False).fit(X, y)\n",
    "reg.coef_"
   ]
  },
  {
   "cell_type": "code",
   "execution_count": 42,
   "metadata": {},
   "outputs": [],
   "source": [
    "vols=[box.vol/(L*W*H) for box in _boxes]"
   ]
  },
  {
   "cell_type": "code",
   "execution_count": 43,
   "metadata": {},
   "outputs": [
    {
     "data": {
      "text/plain": [
       "(-0.02784229967179231, 0.3126243216680343)"
      ]
     },
     "execution_count": 43,
     "metadata": {},
     "output_type": "execute_result"
    },
    {
     "data": {
      "image/png": "[encoded data removed]",
      "text/plain": [
       "<Figure size 432x288 with 1 Axes>"
      ]
     },
     "metadata": {},
     "output_type": "display_data"
    }
   ],
   "source": [
    "import matplotlib.pyplot as plt\n",
    "\n",
    "fig, ax = plt.subplots()\n",
    "\n",
    "ax.scatter(vols, reg.coef_, s=25,cmap=plt.cm.coolwarm, zorder=10)\n",
    "\n",
    "lims = [\n",
    "    np.min([ax.get_xlim(), ax.get_ylim()]),  # min of both axes\n",
    "    np.max([ax.get_xlim(), ax.get_ylim()]),  # max of both axes\n",
    "]\n",
    "\n",
    "# now plot both limits against eachother\n",
    "ax.plot(lims, lims, 'k-', alpha=0.75, zorder=0)\n",
    "ax.set_aspect('equal')\n",
    "ax.set_xlim(lims)\n",
    "ax.set_ylim(lims)\n"
   ]
  },
  {
   "cell_type": "code",
   "execution_count": null,
   "metadata": {},
   "outputs": [],
   "source": []
  }
 ],
 "metadata": {
  "interpreter": {
   "hash": "c36899d9a7449e20c1ec5886b850b9a1fef29079c6b40be15f31890b91b1f42b"
  },
  "kernelspec": {
   "display_name": "Python 3 (ipykernel)",
   "language": "python",
   "name": "python3"
  },
  "language_info": {
   "codemirror_mode": {
    "name": "ipython",
    "version": 3
   },
   "file_extension": ".py",
   "mimetype": "text/x-python",
   "name": "python",
   "nbconvert_exporter": "python",
   "pygments_lexer": "ipython3",
   "version": "3.8.0"
  },
  "metadata": {
   "interpreter": {
    "hash": "31f2aee4e71d21fbe5cf8b01ff0e069b9275f58929596ceb00d14d90e3e16cd6"
   }
  }
 },
 "nbformat": 4,
 "nbformat_minor": 4
}
