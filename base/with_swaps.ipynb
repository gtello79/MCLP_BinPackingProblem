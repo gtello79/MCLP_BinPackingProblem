{
 "cells": [
  {
   "cell_type": "code",
   "execution_count": 10,
   "id": "a372f08a-992a-4d8d-90a4-194088f00fd3",
   "metadata": {},
   "outputs": [
    {
     "name": "stdin",
     "output_type": "stream",
     "text": [
      " ········\n"
     ]
    }
   ],
   "source": [
    "import paramiko\n",
    "import getpass\n",
    "\n",
    "host = \"158.251.88.197\"\n",
    "port = 22\n",
    "username = \"iaraya\"\n",
    "password = getpass.getpass()\n",
    "\n",
    "ssh = paramiko.SSHClient()\n",
    "ssh.set_missing_host_key_policy(paramiko.AutoAddPolicy())\n",
    "ssh.connect(host, port, username, password)"
   ]
  },
  {
   "cell_type": "markdown",
   "id": "65449f21-1e4a-4987-9ece-fc2a4f762a1f",
   "metadata": {},
   "source": [
    "### Loading the instance"
   ]
  },
  {
   "cell_type": "code",
   "execution_count": 11,
   "id": "ebcae899-d939-4b15-a60a-0224fd5c0856",
   "metadata": {},
   "outputs": [],
   "source": [
    "from bsg import load_BRinstance,load_BRKGAinstance, load_LargeInstance\n",
    "from mclp import generate_candidate_solution\n",
    "import numpy as np\n",
    "\n",
    "#L,W,H,boxes,id2box = load_BRinstance(filename=\"BR8.txt\",inst=4, nbox=1)\n",
    "L,W,H,boxes,id2box = load_BRKGAinstance(filename=\"../benchs/class7/200.txt\",inst=1, nbox=1)\n",
    "#L,W,H,boxes,id2box = load_LargeInstance(filename=\"../benchs/Data_large/L_2000/L_2000_2.txt\", nbox=1, rot_allowed=True)\n",
    "_boxes=boxes.copy()\n",
    "\n",
    "r_param = 1.5 \n",
    "total_test = 100"
   ]
  },
  {
   "cell_type": "markdown",
   "id": "34e32561-b58e-475a-b5c6-99dbb5e7effd",
   "metadata": {},
   "source": [
    "### Estimating adjusted vols (optional)"
   ]
  },
  {
   "cell_type": "code",
   "execution_count": 12,
   "id": "89903219-00f4-4362-8515-0a1ff6444067",
   "metadata": {
    "tags": []
   },
   "outputs": [
    {
     "name": "stdout",
     "output_type": "stream",
     "text": [
      "Initial Solution: 30\n",
      "Initial Solution: 29\n",
      "Initial Solution: 30\n",
      "Initial Solution: 29\n",
      "Initial Solution: 29\n",
      "Initial Solution: 31\n",
      "Initial Solution: 30\n",
      "Initial Solution: 30\n",
      "Initial Solution: 30\n",
      "Initial Solution: 30\n"
     ]
    }
   ],
   "source": [
    "boxes=_boxes.copy()\n",
    "\n",
    "nsols = 10;\n",
    "bins = []\n",
    "for _ in range(nsols):\n",
    "    bin  = generate_candidate_solution(ssh,L,W,H,boxes,id2box, r_param=r_param, bsg_time=1)\n",
    "    bins = [*bins,*bin[:-5]]\n",
    "    boxes=_boxes.copy()\n",
    "    \n",
    "from sklearn.linear_model import LinearRegression\n",
    "#10x1 + 5x2 +7x3 = 1\n",
    "#7x3 + 1x7 = 1\n",
    "#7x3 + 14x1 = 1 \n",
    "#...\n",
    "\n",
    "X = []; y=[]\n",
    "for bin in bins:\n",
    "    x = np.zeros(len(_boxes))\n",
    "    i=0\n",
    "    for box in _boxes:\n",
    "        if box in bin.boxes:\n",
    "            x[i]=bin.boxes[box]\n",
    "        i+=1\n",
    "    X.append(x)\n",
    "    y.append(1.0)\n",
    "\n",
    "reg = LinearRegression(fit_intercept=False).fit(X, y)\n",
    "\n",
    "i = 0\n",
    "\n",
    "for box in _boxes:\n",
    "    vol = box.vol/(L*W*H) \n",
    "    if reg.coef_[i] < vol: box.adj_vol=vol\n",
    "    else: box.adj_vol=reg.coef_[i]\n",
    "    i+=1\n",
    "    \n",
    "#print( reg.coef_)"
   ]
  },
  {
   "cell_type": "code",
   "execution_count": 13,
   "id": "b9490c7e-b3d4-46e3-88cf-e8902c938c96",
   "metadata": {},
   "outputs": [],
   "source": [
    "import copy as cp\n",
    "\n",
    "i=0\n",
    "precomputed_vols = reg.coef_\n",
    "vols = cp.deepcopy(reg.coef_)\n",
    "for box in _boxes:\n",
    "    vol = box.vol/(L*W*H) \n",
    "    vols[i] = vol\n",
    "    if precomputed_vols[i] < vol: \n",
    "        precomputed_vols[i]=vol\n",
    "    box.adj_vol=precomputed_vols[i]\n",
    "    i+=1    "
   ]
  },
  {
   "cell_type": "code",
   "execution_count": 14,
   "id": "eacbe508-1b67-409c-a124-667eecdb447c",
   "metadata": {},
   "outputs": [
    {
     "data": {
      "text/plain": [
       "(-0.043321149450164895, 0.9131816384534627)"
      ]
     },
     "execution_count": 14,
     "metadata": {},
     "output_type": "execute_result"
    },
    {
     "data": {
      "image/png": "[encoded data removed]",
      "text/plain": [
       "<Figure size 432x288 with 1 Axes>"
      ]
     },
     "metadata": {
      "needs_background": "light"
     },
     "output_type": "display_data"
    }
   ],
   "source": [
    "import matplotlib.pyplot as plt\n",
    "\n",
    "fig, ax = plt.subplots()\n",
    "\n",
    "ax.scatter(vols, precomputed_vols, s=25,cmap=plt.cm.coolwarm, zorder=10)\n",
    "\n",
    "lims = [\n",
    "    np.min([ax.get_xlim(), ax.get_ylim()]),  # min of both axes\n",
    "    np.max([ax.get_xlim(), ax.get_ylim()]),  # max of both axes\n",
    "]\n",
    "\n",
    "# now plot both limits against eachother\n",
    "ax.plot(lims, lims, 'k-', alpha=0.75, zorder=0)\n",
    "ax.set_aspect('equal')\n",
    "ax.set_xlim(lims)\n",
    "ax.set_ylim(lims)"
   ]
  },
  {
   "cell_type": "markdown",
   "id": "484d63f7-c438-4cff-a05d-fdc728388101",
   "metadata": {},
   "source": [
    "### Solver"
   ]
  },
  {
   "cell_type": "code",
   "execution_count": 15,
   "id": "2d1d6229-91fd-4674-ab37-0ebf198417b7",
   "metadata": {},
   "outputs": [],
   "source": [
    "from mclp import get_random_bin\n",
    "\n",
    "def get_adjusted_vol(boxes):\n",
    "    vol=0.0\n",
    "    for box in boxes:\n",
    "        vol += box.adj_vol*boxes[box]\n",
    "    return vol\n",
    "\n",
    "def get_vol(boxes):\n",
    "    vol=0.0\n",
    "    for box in boxes:\n",
    "        vol += box.vol*boxes[box]\n",
    "    return vol\n",
    "      \n",
    "def adjusted_swap(solution, n=2,  max_vol_accept=1.0, tolerance=0.1, verbose=True):\n",
    "    bin_A = get_random_bin(s = solution)\n",
    "    bin_B = get_random_bin(s = solution, b = bin_A)\n",
    "    \n",
    "    iniA = bin_A.adj_vol\n",
    "    iniB = bin_B.adj_vol\n",
    "    var_ini = (bin_A.adj_vol-1.0)**2 + (bin_B.adj_vol-1.0)**2\n",
    "    \n",
    "    nA = int(random.randint(1, n))\n",
    "    boxes_A = bin_A.pop_random_boxes(nA)\n",
    "    adjvolA = get_adjusted_vol(boxes_A)\n",
    "    \n",
    "    nB = int(random.randint(0, n))\n",
    "    boxes_B = bin_B.pop_random_boxes(nB)\n",
    "    adjvolB = get_adjusted_vol(boxes_B)\n",
    "    \n",
    "    r = tolerance*random.random()\n",
    "    accepted = False\n",
    "    \n",
    "    if adjvolA > adjvolB and bin_B.adj_vol + adjvolA <= max_vol_accept + r:\n",
    "        accepted = True\n",
    "    elif adjvolB > adjvolA and  bin_A.adj_vol + adjvolB <= max_vol_accept + r:\n",
    "        accepted = True\n",
    "    \n",
    "    if accepted:\n",
    "        bin_A.insert_boxes(boxes_B)\n",
    "        bin_B.insert_boxes(boxes_A)\n",
    "    else: return -10\n",
    "        \n",
    "    var_final = (bin_A.adj_vol-1.0)**2 + (bin_B.adj_vol-1.0)**2\n",
    "        \n",
    "    var_diff = var_final - var_ini\n",
    "    #if var_diff>0:\n",
    "    #    print(iniA, bin_A.adj_vol)\n",
    "    #    print(iniB, bin_B.adj_vol)\n",
    "    \n",
    "    return var_diff"
   ]
  },
  {
   "cell_type": "code",
   "execution_count": 16,
   "id": "1c7e6c2c-ae64-4d17-a299-ec5804f37167",
   "metadata": {},
   "outputs": [
    {
     "name": "stdout",
     "output_type": "stream",
     "text": [
      "Initial Solution: 29\n"
     ]
    }
   ],
   "source": [
    "boxes=_boxes.copy()\n",
    "init_solution=generate_candidate_solution(ssh,L,W,H,boxes,id2box, r_param=r_param)"
   ]
  },
  {
   "cell_type": "code",
   "execution_count": 17,
   "id": "3adef7ea-b990-4f1a-a7b5-c27c1779e90c",
   "metadata": {},
   "outputs": [
    {
     "name": "stdout",
     "output_type": "stream",
     "text": [
      "adjusted volumes of each bin: [0.985929573548675, 1.1486290046905288, 1.2927663604361932, 1.1811037079291875, 1.0434222048480617, 0.795411068827549, 1.2166517740988927, 1.0965504519763056, 1.3724409550898753, 1.0358542419886316, 1.3579238021975093, 1.1400463629837743, 1.0454122106599857, 1.1588729109382863, 1.3403043604273868, 1.6785551007276494, 1.3316314933668711, 1.1001697306153786, 0.887195960636113, 1.0722404216622454, 1.1899425708068678, 0.7701892702563866, 1.0489744426926222, 0.8250731464120321, 1.056989507434253, 1.1200467386811574, 1.2378102487615812, 1.0972245389002833, 0.7142315439466844]\n",
      "[0.57575, 0.71446875, 0.72734375, 0.74459375, 0.70725, 0.632140625, 0.60228125, 0.57309375, 0.712109375, 0.675515625, 0.657640625, 0.679, 0.723671875, 0.668, 0.74209375, 0.85140625, 0.742109375, 0.629765625, 0.5371875, 0.74375, 0.65971875, 0.563703125, 0.570140625, 0.51384375, 0.557890625, 0.7179375, 0.74003125, 0.60696875, 0.45415625]\n"
     ]
    }
   ],
   "source": [
    "import copy as cp\n",
    "for bin in init_solution:\n",
    "    bin.set_adj_vol(get_adjusted_vol(bin.boxes))\n",
    "    bin.set_vol(get_vol(bin.boxes))\n",
    "# Bins adjusted volumes\n",
    "print(\"adjusted volumes of each bin:\",[get_adjusted_vol(bin.boxes) for bin in init_solution])\n",
    "print([get_vol(bin.boxes)/(L*W*H) for bin in init_solution])\n",
    "best_solution = cp.deepcopy(init_solution)"
   ]
  },
  {
   "cell_type": "code",
   "execution_count": null,
   "id": "70391d2c-576a-4e5e-9e16-cbb836597e31",
   "metadata": {},
   "outputs": [
    {
     "name": "stdout",
     "output_type": "stream",
     "text": [
      "9 verification fails [(0.977967790422549, 42826.0), (0.14041676789445307, 5400.0)]\n",
      "14 verification fails [(1.2989729334811095, 50734.0), (1.010270757434253, 32715.0)]\n",
      "16 verification fails [(1.2432091823773004, 51172.0), (1.0142918538534162, 32736.0)]\n",
      "18 verification fails [(1.0303558987863402, 46632.0), (0.1835200407703582, 6446.0)]\n",
      "30 verification fails [(1.1376882757916285, 50097.0), (0.36519460016465227, 14985.0)]\n",
      "49 verification fails [(1.2921184534944627, 51501.0)]\n",
      "63 verification fails [(1.185368907777288, 48738.0), (0.9542984686672049, 32824.0)]\n",
      "88 verification fails [(1.0369759521625412, 43368.0)]\n",
      "108 verification fails [(1.2817854334811096, 49634.0), (1.1411832707696614, 42373.0)]\n",
      "109 verification fails [(1.3467683668573047, 50719.0), (1.2375914987615813, 47348.0)]\n",
      "138 verification fails [(1.184969575078213, 52926.0), (0.046122715687414106, 546.0)]\n",
      "152 verification fails [(1.241623830098836, 51016.0)]\n",
      "156 verification fails [(1.190363440278645, 47790.0), (0.919005839395287, 35331.0)]\n",
      "180 verification fails [(1.2838835943459734, 50910.0), (0.7102353891851862, 34391.0)]\n",
      "0.024195859652191426\n",
      "29 : [173, 1], [194, 1], [110, 1], [28, 1], [39, 1],  0.63735937 1.108412506802758 True\n",
      "196 verification fails [(1.262804384654858, 46607.0)]\n",
      "212 verification fails [(0.9057402599646129, 30834.0), (1.259661754272398, 45662.0)]\n",
      "215 verification fails [(1.1105424803575352, 45874.0), (0.8803820829361878, 40050.0)]\n",
      "221 verification fails [(0.9312647190416294, 39981.0), (1.1188869990526096, 38695.0)]\n",
      "223 verification fails [(1.2270317851377932, 47747.0), (0.9582667390032977, 35248.0)]\n",
      "224 verification fails [(1.225997237997535, 44655.0)]\n",
      "226 verification fails [(1.1901319409198443, 51366.0), (0.2879240125746185, 12035.0)]\n",
      "240 verification fails [(1.198131256802758, 46533.0)]\n",
      "242 verification fails [(1.242927007434253, 47605.0)]\n",
      "247 verification fails [(1.1862750383952996, 54288.0), (0.7984221561381198, 29978.0)]\n",
      "258 verification fails [(1.0677550678564047, 39788.0), (1.1897459683743117, 44120.0)]\n",
      "259 verification fails [(0.8255797558918871, 37113.0)]\n",
      "0.002424525390499796\n",
      "29 : [173, 1], [194, 1], [110, 1], [28, 1], [39, 1],  0.63735937 1.108412506802758 True\n",
      "287 verification fails [(1.2295347447776026, 52351.0), (0.9213725941051193, 27146.0)]\n",
      "290 verification fails [(1.0836793129756046, 34349.0), (1.1186510252756219, 50234.0)]\n",
      "298 verification fails [(1.16827177469649, 51063.0), (0.9275659588346701, 40748.0)]\n",
      "0.014410291157315624\n",
      "29 : [173, 1], [194, 1], [110, 1], [28, 1], [39, 1],  0.63735937 1.108412506802758 True\n",
      "303 verification fails [(1.2962968793452951, 62259.0), (0.09817412582250262, 1512.0)]\n",
      "0.0017712008510166362\n",
      "29 : [173, 1], [194, 1], [28, 1], [39, 1], [144, 1],  0.64326562 1.1519102224901718 True\n",
      "312 verification fails [(1.1337741706557605, 50754.0)]\n",
      "315 verification fails [(1.3441081853855474, 51124.0)]\n",
      "317 verification fails [(1.1907010228577835, 45718.0), (0.9901558966628974, 41280.0)]\n",
      "325 verification fails [(1.2054595993429218, 47344.0), (0.11859375000000001, 7590.0)]\n",
      "0.016055996551836177\n",
      "29 : [173, 1], [194, 1], [28, 1], [39, 1], [144, 1],  0.64326562 1.1519102224901718 True\n",
      "0.004026237238022026\n",
      "29 : [173, 1], [194, 1], [28, 1], [39, 1], [144, 1],  0.64326562 1.1519102224901718 True\n",
      "0.02598533026547123\n",
      "29 : [173, 1], [194, 1], [28, 1], [39, 1], [144, 1],  0.64326562 1.1519102224901718 True\n",
      "356 verification fails [(1.153515410725952, 43009.0), (1.0751419707508705, 40761.0)]\n",
      "369 verification fails [(1.2919236126759752, 51808.0), (1.3877787807814457e-17, 0.0)]\n",
      "378 verification fails [(1.2360285623269789, 44041.0), (1.0410076837884314, 44012.0)]\n",
      "393 verification fails [(0.997195179594526, 38469.0), (1.3394624128732342, 52366.0)]\n",
      "400 verification fails [(1.2846804693459737, 50961.0), (0.7965345484977722, 42320.0)]\n",
      "0.025276920738418942\n",
      "29 : [173, 1], [194, 1], [28, 1], [39, 1], [144, 1],  0.64326562 1.1519102224901718 True\n",
      "413 verification fails [(0.6164852481971366, 30007.0), (1.3877787807814457e-17, 0.0)]\n",
      "0.009144657186537845\n",
      "29 : [173, 1], [194, 1], [28, 1], [39, 1], [144, 1],  0.64326562 1.1519102224901718 True\n",
      "423 verification fails [(1.1901319409198443, 51366.0), (0.21966197831243467, 12692.0)]\n",
      "0.0029094907327909224\n",
      "29 : [173, 1], [194, 1], [28, 1], [39, 1], [144, 1], [46, 1],  0.66107812 1.1697227224901718 True\n",
      "437 verification fails [(0.786252926582511, 26856.0), (1.2228206998619822, 46348.0)]\n"
     ]
    }
   ],
   "source": [
    "### ALGORITMO GENERAL\n",
    "\n",
    "import random\n",
    "from mclp import verify_solution\n",
    "\n",
    "\n",
    "for i in range(1000):\n",
    "    solution = cp.deepcopy(best_solution)\n",
    "    diff_var = adjusted_swap(solution, n=2,  max_vol_accept=1.1, tolerance=0.3, verbose=True)\n",
    "\n",
    "    if diff_var>0:\n",
    "        verified_solution=True\n",
    "        #max_bl: maxima cantidad de bloques a generar por bsg\n",
    "        #min_fr: minimo porcentaje ocupado para considerar la generación de un bloque\n",
    "        if not verify_solution(ssh, solution, id2box, bsg_time=1, args=\"--max_bl=10000 --min_fr=0.99\", verbose=False):\n",
    "            print(i,\"verification fails\", [(b.adj_vol,b.vol) for b in solution if b.verify==False])\n",
    "            verified_solution=False\n",
    "\n",
    "        if verified_solution:\n",
    "            minAdj = 1.0\n",
    "            minB = None\n",
    "            for bin in solution:\n",
    "                if bin.adj_vol < minAdj:\n",
    "                    minAdj=bin.adj_vol\n",
    "                    minB=bin\n",
    "            print(diff_var)\n",
    "            print(bin.id, \":\", bin, bin.utilization, bin.adj_vol, bin.verify)\n",
    "            best_solution = cp.deepcopy(solution)"
   ]
  },
  {
   "cell_type": "code",
   "execution_count": null,
   "id": "054e92f7-af69-4ece-a507-be48cbe5ed1a",
   "metadata": {},
   "outputs": [],
   "source": [
    "### PRUEBA\n",
    "\n",
    "import bsg\n",
    "filename=\"tmp_instance_\"+ str(random.randint(10000, 99999))\n",
    "    \n",
    "for s in solution:\n",
    "    boxes = s.boxes\n",
    "    bsg.bsg_solve(ssh,L,W,H, boxes, id2box, time=15, args=\"--max_bl=10000 --min_fr=0.99\", \\\n",
    "              verbose=True, remove_instance=False)"
   ]
  },
  {
   "cell_type": "code",
   "execution_count": 25,
   "id": "2716fa48-5c8e-4134-b6da-e945155f7d63",
   "metadata": {},
   "outputs": [
    {
     "name": "stdout",
     "output_type": "stream",
     "text": [
      "[0.6308125, 0.705140625, 0.71034375, 0.7519375, 0.786375, 0.763640625, 0.69646875, 0.842453125, 0.7515, 0.700265625, 0.69215625, 0.72553125, 0.599421875, 0.69615625, 0.463703125, 0.67728125, 0.709015625, 0.756796875, 0.402109375, 0.53140625, 0.756078125, 0.70553125, 0.571859375, 0.79475, 0.5936875, 0.537453125, 0.301234375, 0.612046875, 0.55840625]\n"
     ]
    }
   ],
   "source": [
    "print([get_vol(bin.boxes)/(L*W*H) for bin in best_solution])"
   ]
  },
  {
   "cell_type": "markdown",
   "id": "5f7d2d04-400e-4891-b9ab-5ac3ecd222e5",
   "metadata": {},
   "source": [
    "## TEST"
   ]
  },
  {
   "cell_type": "code",
   "execution_count": 7,
   "id": "13c7c692-3ced-4b9b-bfae-5018d5804a40",
   "metadata": {},
   "outputs": [
    {
     "name": "stdout",
     "output_type": "stream",
     "text": [
      "Initial Solution: 30\n"
     ]
    }
   ],
   "source": [
    "boxes=_boxes.copy()\n",
    "#Creacion de solucion candidata\n",
    "bins1 = generate_candidate_solution(ssh,L,W,H,boxes,id2box, r_param=r_param, bsg_time=1)"
   ]
  },
  {
   "cell_type": "code",
   "execution_count": 8,
   "id": "51e7637c-40fb-49ae-abca-3a9083fc209b",
   "metadata": {
    "collapsed": true,
    "jupyter": {
     "outputs_hidden": true
    },
    "tags": []
   },
   "outputs": [
    {
     "name": "stdout",
     "output_type": "stream",
     "text": [
      "/home/iaraya/clp/BSG_CLP /home/iaraya/clp/tmp_instance_47542 -i 0 -t 5 --json --max_bl=10000 --min_fr=0.99\n",
      "{} {<box.box object at 0x0B991820>: 1, <box.box object at 0x0B991898>: 1, <box.box object at 0x0B991C28>: 1, <box.box object at 0x0B991958>: 1, <box.box object at 0x0B991E38>: 1, <box.box object at 0x0B9917F0>: 1, <box.box object at 0x0B991DF0>: 1, <box.box object at 0x0B991358>: 1} 0.66717187\n",
      "/home/iaraya/clp/BSG_CLP /home/iaraya/clp/tmp_instance_52461 -i 0 -t 5 --json --max_bl=10000 --min_fr=0.99\n",
      "{} {<box.box object at 0x0B996040>: 1, <box.box object at 0x0B9919A0>: 1, <box.box object at 0x0B991FA0>: 1, <box.box object at 0x0B9916B8>: 1, <box.box object at 0x0B991220>: 1, <box.box object at 0x0B991688>: 1, <box.box object at 0x0B991700>: 1, <box.box object at 0x0B996148>: 1, <box.box object at 0x0B991BB0>: 1, <box.box object at 0x0B9919D0>: 1, <box.box object at 0x0B991778>: 1, <box.box object at 0x0B996100>: 1} 0.76420312\n",
      "/home/iaraya/clp/BSG_CLP /home/iaraya/clp/tmp_instance_23663 -i 0 -t 5 --json --max_bl=10000 --min_fr=0.99\n",
      "{} {<box.box object at 0x0B991AC0>: 1, <box.box object at 0x0B9912C8>: 1, <box.box object at 0x0B991400>: 1, <box.box object at 0x0B991A48>: 1, <box.box object at 0x0B991520>: 1, <box.box object at 0x0B9911A8>: 1} 0.6475625\n",
      "/home/iaraya/clp/BSG_CLP /home/iaraya/clp/tmp_instance_30912 -i 0 -t 5 --json --max_bl=10000 --min_fr=0.99\n",
      "{} {<box.box object at 0x0B991E20>: 1, <box.box object at 0x0B991310>: 1, <box.box object at 0x0B991B50>: 1, <box.box object at 0x0B991238>: 1, <box.box object at 0x0B991568>: 1, <box.box object at 0x0B991FD0>: 1} 0.65976563\n",
      "/home/iaraya/clp/BSG_CLP /home/iaraya/clp/tmp_instance_19971 -i 0 -t 5 --json --max_bl=10000 --min_fr=0.99\n",
      "{} {<box.box object at 0x0B991A30>: 1, <box.box object at 0x0B991B20>: 1, <box.box object at 0x0B9911D8>: 1, <box.box object at 0x0B991370>: 1, <box.box object at 0x0B991628>: 1, <box.box object at 0x0B991808>: 1} 0.67229688\n",
      "/home/iaraya/clp/BSG_CLP /home/iaraya/clp/tmp_instance_88070 -i 0 -t 5 --json --max_bl=10000 --min_fr=0.99\n",
      "{} {<box.box object at 0x0B991148>: 1, <box.box object at 0x0B991C88>: 1, <box.box object at 0x0B991F10>: 1, <box.box object at 0x0B991CD0>: 1, <box.box object at 0x0B9961F0>: 1, <box.box object at 0x0B9961D8>: 1} 0.6279375\n",
      "/home/iaraya/clp/BSG_CLP /home/iaraya/clp/tmp_instance_17857 -i 0 -t 5 --json --max_bl=10000 --min_fr=0.99\n",
      "{} {<box.box object at 0x0B9910A0>: 1, <box.box object at 0x0B991970>: 1, <box.box object at 0x0B991580>: 1, <box.box object at 0x0B9916E8>: 1, <box.box object at 0x0B9960E8>: 1, <box.box object at 0x0B991670>: 1, <box.box object at 0x0B991268>: 1, <box.box object at 0x0B9915C8>: 1, <box.box object at 0x061665F8>: 1, <box.box object at 0x0B991280>: 1, <box.box object at 0x0B991B98>: 1, <box.box object at 0x0B991D48>: 1} 0.77048437\n",
      "/home/iaraya/clp/BSG_CLP /home/iaraya/clp/tmp_instance_54258 -i 0 -t 5 --json --max_bl=10000 --min_fr=0.99\n",
      "{} {<box.box object at 0x0B991250>: 1, <box.box object at 0x06166AD8>: 1, <box.box object at 0x0B991C58>: 1, <box.box object at 0x0B991100>: 1, <box.box object at 0x0B9913D0>: 1, <box.box object at 0x0B991EB0>: 1, <box.box object at 0x0B991418>: 1, <box.box object at 0x0B996178>: 1} 0.61560938\n",
      "/home/iaraya/clp/BSG_CLP /home/iaraya/clp/tmp_instance_40566 -i 0 -t 5 --json --max_bl=10000 --min_fr=0.99\n",
      "{} {<box.box object at 0x061661D8>: 1, <box.box object at 0x0B991BC8>: 1, <box.box object at 0x0B991058>: 1, <box.box object at 0x0B991880>: 1, <box.box object at 0x0B991A90>: 1, <box.box object at 0x0B996238>: 1, <box.box object at 0x0B991C10>: 1, <box.box object at 0x0B991550>: 1, <box.box object at 0x0B991BF8>: 1, <box.box object at 0x0B991DA8>: 1, <box.box object at 0x0B9918B0>: 1, <box.box object at 0x0B996160>: 1, <box.box object at 0x0B991D18>: 1} 0.69301563\n",
      "/home/iaraya/clp/BSG_CLP /home/iaraya/clp/tmp_instance_92653 -i 0 -t 5 --json --max_bl=10000 --min_fr=0.99\n",
      "{} {<box.box object at 0x0B9913A0>: 1, <box.box object at 0x0B991208>: 1, <box.box object at 0x0B9911F0>: 1, <box.box object at 0x0B94B568>: 1, <box.box object at 0x0B991FB8>: 1, <box.box object at 0x0B991FE8>: 1, <box.box object at 0x0B991CB8>: 1, <box.box object at 0x0B9917C0>: 1, <box.box object at 0x0B9919B8>: 1} 0.66985938\n",
      "/home/iaraya/clp/BSG_CLP /home/iaraya/clp/tmp_instance_73845 -i 0 -t 5 --json --max_bl=10000 --min_fr=0.99\n",
      "{} {<box.box object at 0x0B991CE8>: 1, <box.box object at 0x0B991B38>: 1, <box.box object at 0x0B991850>: 1, <box.box object at 0x0B991640>: 1, <box.box object at 0x0B991838>: 1, <box.box object at 0x0B996028>: 1, <box.box object at 0x0B991118>: 1, <box.box object at 0x0B991E68>: 1, <box.box object at 0x0B991A18>: 1, <box.box object at 0x0B991EF8>: 1, <box.box object at 0x0B991760>: 1} 0.72804687\n",
      "/home/iaraya/clp/BSG_CLP /home/iaraya/clp/tmp_instance_35678 -i 0 -t 5 --json --max_bl=10000 --min_fr=0.99\n",
      "{} {<box.box object at 0x0B9919E8>: 1, <box.box object at 0x0B991A78>: 1, <box.box object at 0x0B9914A8>: 1} 0.68190625\n",
      "/home/iaraya/clp/BSG_CLP /home/iaraya/clp/tmp_instance_32424 -i 0 -t 5 --json --max_bl=10000 --min_fr=0.99\n",
      "{} {<box.box object at 0x0B991490>: 1, <box.box object at 0x0B991508>: 1, <box.box object at 0x0B9915B0>: 1, <box.box object at 0x0B991658>: 1, <box.box object at 0x0B991F58>: 1, <box.box object at 0x0B991AD8>: 1, <box.box object at 0x0B996118>: 1} 0.75096875\n",
      "/home/iaraya/clp/BSG_CLP /home/iaraya/clp/tmp_instance_61126 -i 0 -t 5 --json --max_bl=10000 --min_fr=0.99\n",
      "{} {<box.box object at 0x0B991A00>: 1, <box.box object at 0x0B991D30>: 1, <box.box object at 0x0B991D90>: 1, <box.box object at 0x0B9918F8>: 1, <box.box object at 0x0B991B68>: 1, <box.box object at 0x0B991298>: 1, <box.box object at 0x0B9912F8>: 1} 0.64170313\n",
      "/home/iaraya/clp/BSG_CLP /home/iaraya/clp/tmp_instance_64998 -i 0 -t 5 --json --max_bl=10000 --min_fr=0.99\n",
      "{} {<box.box object at 0x0B991718>: 1, <box.box object at 0x0B9911C0>: 1, <box.box object at 0x0B991D78>: 1, <box.box object at 0x0B996220>: 1, <box.box object at 0x0B9960A0>: 1} 0.65095313\n",
      "/home/iaraya/clp/BSG_CLP /home/iaraya/clp/tmp_instance_58188 -i 0 -t 5 --json --max_bl=10000 --min_fr=0.99\n",
      "{} {<box.box object at 0x0B9916A0>: 1, <box.box object at 0x0B991730>: 1, <box.box object at 0x0B991328>: 1, <box.box object at 0x0B991388>: 1, <box.box object at 0x0B9912B0>: 1} 0.57548438\n",
      "/home/iaraya/clp/BSG_CLP /home/iaraya/clp/tmp_instance_85027 -i 0 -t 5 --json --max_bl=10000 --min_fr=0.99\n",
      "{} {<box.box object at 0x0B9917D8>: 1, <box.box object at 0x0B9915E0>: 1, <box.box object at 0x0B991EC8>: 1, <box.box object at 0x0B991F40>: 1} 0.65220312\n",
      "/home/iaraya/clp/BSG_CLP /home/iaraya/clp/tmp_instance_10023 -i 0 -t 5 --json --max_bl=10000 --min_fr=0.99\n",
      "{} {<box.box object at 0x0B991C70>: 1, <box.box object at 0x0B991610>: 1, <box.box object at 0x0B991E80>: 1, <box.box object at 0x0B9910B8>: 1, <box.box object at 0x0B991178>: 1, <box.box object at 0x061667F0>: 1} 0.62798438\n",
      "/home/iaraya/clp/BSG_CLP /home/iaraya/clp/tmp_instance_91696 -i 0 -t 5 --json --max_bl=10000 --min_fr=0.99\n",
      "{} {<box.box object at 0x0B991E98>: 1, <box.box object at 0x0B991940>: 1, <box.box object at 0x0B9912E0>: 1, <box.box object at 0x0B991DD8>: 1, <box.box object at 0x0B991A60>: 1, <box.box object at 0x0B991F28>: 1, <box.box object at 0x0B991478>: 1} 0.66135937\n",
      "/home/iaraya/clp/BSG_CLP /home/iaraya/clp/tmp_instance_25569 -i 0 -t 5 --json --max_bl=10000 --min_fr=0.99\n",
      "{} {<box.box object at 0x0B991AA8>: 1, <box.box object at 0x0B991928>: 1, <box.box object at 0x0B991E50>: 1, <box.box object at 0x0B9914D8>: 1, <box.box object at 0x0B991868>: 1, <box.box object at 0x0B991088>: 1, <box.box object at 0x0B991598>: 1} 0.615125\n",
      "/home/iaraya/clp/BSG_CLP /home/iaraya/clp/tmp_instance_66607 -i 0 -t 5 --json --max_bl=10000 --min_fr=0.99\n",
      "{} {<box.box object at 0x0B991910>: 1, <box.box object at 0x0B9914F0>: 1, <box.box object at 0x0B991160>: 1, <box.box object at 0x0B991070>: 1, <box.box object at 0x0B9910E8>: 1} 0.56015625\n",
      "/home/iaraya/clp/BSG_CLP /home/iaraya/clp/tmp_instance_35880 -i 0 -t 5 --json --max_bl=10000 --min_fr=0.99\n",
      "{} {<box.box object at 0x0B9960B8>: 1, <box.box object at 0x0B9961C0>: 1, <box.box object at 0x0B9960D0>: 1, <box.box object at 0x0B9915F8>: 1, <box.box object at 0x0B991538>: 1, <box.box object at 0x0B991BE0>: 1, <box.box object at 0x0B9916D0>: 1} 0.66579687\n",
      "/home/iaraya/clp/BSG_CLP /home/iaraya/clp/tmp_instance_86157 -i 0 -t 5 --json --max_bl=10000 --min_fr=0.99\n",
      "{} {<box.box object at 0x0B991040>: 1, <box.box object at 0x0B991CA0>: 1, <box.box object at 0x0B996208>: 1, <box.box object at 0x0B9917A8>: 1, <box.box object at 0x0B991B80>: 1, <box.box object at 0x0B991EE0>: 1, <box.box object at 0x0B991430>: 1} 0.64565625\n",
      "/home/iaraya/clp/BSG_CLP /home/iaraya/clp/tmp_instance_58561 -i 0 -t 5 --json --max_bl=10000 --min_fr=0.99\n",
      "{} {<box.box object at 0x0B991C40>: 1, <box.box object at 0x0B9961A8>: 1, <box.box object at 0x0B9913B8>: 1, <box.box object at 0x0B9918C8>: 1, <box.box object at 0x0B991D00>: 1} 0.60495312\n",
      "/home/iaraya/clp/BSG_CLP /home/iaraya/clp/tmp_instance_33868 -i 0 -t 5 --json --max_bl=10000 --min_fr=0.99\n",
      "{} {<box.box object at 0x0B9910D0>: 1, <box.box object at 0x0B996088>: 1, <box.box object at 0x0B991D60>: 1, <box.box object at 0x0B991748>: 1, <box.box object at 0x0B996070>: 1, <box.box object at 0x0B991028>: 1} 0.65626562\n",
      "/home/iaraya/clp/BSG_CLP /home/iaraya/clp/tmp_instance_26634 -i 0 -t 5 --json --max_bl=10000 --min_fr=0.99\n",
      "{} {<box.box object at 0x0B996190>: 1, <box.box object at 0x0B991460>: 1, <box.box object at 0x061667D8>: 1, <box.box object at 0x0B991F88>: 1, <box.box object at 0x0B991130>: 1} 0.707625\n",
      "/home/iaraya/clp/BSG_CLP /home/iaraya/clp/tmp_instance_29829 -i 0 -t 5 --json --max_bl=10000 --min_fr=0.99\n",
      "{} {<box.box object at 0x0B991190>: 1, <box.box object at 0x0B991790>: 1, <box.box object at 0x061667C0>: 1, <box.box object at 0x0B991448>: 1, <box.box object at 0x0B991B08>: 1} 0.72834375\n",
      "/home/iaraya/clp/BSG_CLP /home/iaraya/clp/tmp_instance_27821 -i 0 -t 5 --json --max_bl=10000 --min_fr=0.99\n",
      "{} {<box.box object at 0x0B996058>: 1, <box.box object at 0x06166808>: 1, <box.box object at 0x0B9914C0>: 1, <box.box object at 0x0B991AF0>: 1, <box.box object at 0x0B991340>: 1, <box.box object at 0x0B9918E0>: 1, <box.box object at 0x0B991988>: 1} 0.62389063\n",
      "/home/iaraya/clp/BSG_CLP /home/iaraya/clp/tmp_instance_41940 -i 0 -t 5 --json --max_bl=10000 --min_fr=0.99\n",
      "{} {<box.box object at 0x0B991E08>: 1, <box.box object at 0x0B991DC0>: 1, <box.box object at 0x0B991F70>: 1, <box.box object at 0x0B996130>: 1} 0.3960625\n",
      "/home/iaraya/clp/BSG_CLP /home/iaraya/clp/tmp_instance_19877 -i 0 -t 5 --json --max_bl=10000 --min_fr=0.99\n",
      "{} {<box.box object at 0x0B9913E8>: 1} 0.061171875\n"
     ]
    }
   ],
   "source": [
    "from bsg import bsg_solve\n",
    "for bin in bins1:\n",
    "    remaining, loaded, utilization = bsg_solve(ssh,L,W,H, bin.boxes, id2box, time=5, \\\n",
    "                                               args=\"--max_bl=10000 --min_fr=0.99\", verbose=True, \\\n",
    "                                               remove_instance=True)\n",
    "    print(remaining, loaded, utilization )"
   ]
  },
  {
   "cell_type": "code",
   "execution_count": null,
   "id": "bd227f00-8544-4b61-8d70-974fdbd82fd3",
   "metadata": {},
   "outputs": [],
   "source": []
  }
 ],
 "metadata": {
  "kernelspec": {
   "display_name": "Python 3 (ipykernel)",
   "language": "python",
   "name": "python3"
  },
  "language_info": {
   "codemirror_mode": {
    "name": "ipython",
    "version": 3
   },
   "file_extension": ".py",
   "mimetype": "text/x-python",
   "name": "python",
   "nbconvert_exporter": "python",
   "pygments_lexer": "ipython3",
   "version": "3.8.0"
  }
 },
 "nbformat": 4,
 "nbformat_minor": 5
}
